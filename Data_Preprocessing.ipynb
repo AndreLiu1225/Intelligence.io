{
 "cells": [
  {
   "cell_type": "markdown",
   "metadata": {},
   "source": [
    "# Building a machine learning pipeline"
   ]
  },
  {
   "cell_type": "markdown",
   "metadata": {},
   "source": [
    "***Step 1:***\n",
    "- Conctenate several csv files into one csv file and match the officer ID column"
   ]
  },
  {
   "cell_type": "code",
   "execution_count": 1,
   "metadata": {},
   "outputs": [],
   "source": [
    "import os\n",
    "import glob\n",
    "import pandas as pd\n",
    "import numpy as np\n",
    "# Always good to set a seed for reproducibility\n",
    "SEED = 7\n",
    "np.random.seed(SEED)\n",
    "\n",
    "import seaborn as sns\n",
    "import matplotlib.pyplot as plt\n",
    "%matplotlib inline\n",
    "os.chdir('C:/algorithmic_hiring/input_data')\n",
    "\n",
    "import warnings\n",
    "warnings.filterwarnings('ignore')"
   ]
  },
  {
   "cell_type": "code",
   "execution_count": null,
   "metadata": {},
   "outputs": [],
   "source": [
    "!pip install matplotlib --force-reinstall --user"
   ]
  },
  {
   "cell_type": "code",
   "execution_count": 2,
   "metadata": {},
   "outputs": [
    {
     "data": {
      "text/plain": [
       "['complaints.csv', 'officer_shooting.csv', 'UseOfForce.csv']"
      ]
     },
     "execution_count": 2,
     "metadata": {},
     "output_type": "execute_result"
    }
   ],
   "source": [
    "extension = 'csv'\n",
    "all_filenames = [i for i in glob.glob('*.{}'.format(extension))]\n",
    "all_filenames"
   ]
  },
  {
   "cell_type": "code",
   "execution_count": 3,
   "metadata": {
    "scrolled": true
   },
   "outputs": [
    {
     "data": {
      "text/html": [
       "<div>\n",
       "<style scoped>\n",
       "    .dataframe tbody tr th:only-of-type {\n",
       "        vertical-align: middle;\n",
       "    }\n",
       "\n",
       "    .dataframe tbody tr th {\n",
       "        vertical-align: top;\n",
       "    }\n",
       "\n",
       "    .dataframe thead th {\n",
       "        text-align: right;\n",
       "    }\n",
       "</style>\n",
       "<table border=\"1\" class=\"dataframe\">\n",
       "  <thead>\n",
       "    <tr style=\"text-align: right;\">\n",
       "      <th></th>\n",
       "      <th>id</th>\n",
       "      <th>occurredDate</th>\n",
       "      <th>division</th>\n",
       "      <th>district</th>\n",
       "      <th>shift</th>\n",
       "      <th>beat</th>\n",
       "      <th>serviceType</th>\n",
       "      <th>source</th>\n",
       "      <th>allegationType</th>\n",
       "      <th>allegation</th>\n",
       "      <th>...</th>\n",
       "      <th>residentCondition</th>\n",
       "      <th>officerCondition</th>\n",
       "      <th>useOfForceReason</th>\n",
       "      <th>officerForceType</th>\n",
       "      <th>arrestMade</th>\n",
       "      <th>arrestCharges</th>\n",
       "      <th>residentInjured</th>\n",
       "      <th>residentHospitalized</th>\n",
       "      <th>officerInjured</th>\n",
       "      <th>officerHospitalized</th>\n",
       "    </tr>\n",
       "  </thead>\n",
       "  <tbody>\n",
       "    <tr>\n",
       "      <th>0</th>\n",
       "      <td>a25a332352fb0bd97f021e0629e910a0</td>\n",
       "      <td>2015-09-14 00:00:00</td>\n",
       "      <td>Operations Division</td>\n",
       "      <td>Downtown  District</td>\n",
       "      <td>DT Middle Shift</td>\n",
       "      <td>NaN</td>\n",
       "      <td>NaN</td>\n",
       "      <td>CPCO (Informal)</td>\n",
       "      <td>Citizen Interaction</td>\n",
       "      <td>Rude, Demeaning, or Affronting Language</td>\n",
       "      <td>...</td>\n",
       "      <td>NaN</td>\n",
       "      <td>NaN</td>\n",
       "      <td>NaN</td>\n",
       "      <td>NaN</td>\n",
       "      <td>NaN</td>\n",
       "      <td>NaN</td>\n",
       "      <td>NaN</td>\n",
       "      <td>NaN</td>\n",
       "      <td>NaN</td>\n",
       "      <td>NaN</td>\n",
       "    </tr>\n",
       "    <tr>\n",
       "      <th>1</th>\n",
       "      <td>a25a332352fb0bd97f021e0629e910a0</td>\n",
       "      <td>2015-09-14 00:00:00</td>\n",
       "      <td>Operations Division</td>\n",
       "      <td>Downtown  District</td>\n",
       "      <td>DT Middle Shift</td>\n",
       "      <td>NaN</td>\n",
       "      <td>NaN</td>\n",
       "      <td>CPCO (Informal)</td>\n",
       "      <td>Citizen Interaction</td>\n",
       "      <td>Failure to Make a Report When Approached by a ...</td>\n",
       "      <td>...</td>\n",
       "      <td>NaN</td>\n",
       "      <td>NaN</td>\n",
       "      <td>NaN</td>\n",
       "      <td>NaN</td>\n",
       "      <td>NaN</td>\n",
       "      <td>NaN</td>\n",
       "      <td>NaN</td>\n",
       "      <td>NaN</td>\n",
       "      <td>NaN</td>\n",
       "      <td>NaN</td>\n",
       "    </tr>\n",
       "    <tr>\n",
       "      <th>2</th>\n",
       "      <td>73c1770e3517d1ee3a8cd79553818994</td>\n",
       "      <td>2015-09-15 00:00:00</td>\n",
       "      <td>Operations Division</td>\n",
       "      <td>Southeast District</td>\n",
       "      <td>SE Day Tactical Shift</td>\n",
       "      <td>NaN</td>\n",
       "      <td>Not Applicable</td>\n",
       "      <td>CPCO (Informal)</td>\n",
       "      <td>Vehicle Operation</td>\n",
       "      <td>Aggressive or Unsafe Driving</td>\n",
       "      <td>...</td>\n",
       "      <td>NaN</td>\n",
       "      <td>NaN</td>\n",
       "      <td>NaN</td>\n",
       "      <td>NaN</td>\n",
       "      <td>NaN</td>\n",
       "      <td>NaN</td>\n",
       "      <td>NaN</td>\n",
       "      <td>NaN</td>\n",
       "      <td>NaN</td>\n",
       "      <td>NaN</td>\n",
       "    </tr>\n",
       "    <tr>\n",
       "      <th>3</th>\n",
       "      <td>24f09e6c595b7f083bc73c543d30dad0</td>\n",
       "      <td>2015-09-16 00:00:00</td>\n",
       "      <td>Operations Division</td>\n",
       "      <td>East District</td>\n",
       "      <td>ED Middle Shift</td>\n",
       "      <td>NaN</td>\n",
       "      <td>Self-Initiated Activity</td>\n",
       "      <td>CPCO (Informal)</td>\n",
       "      <td>Citizen Interaction</td>\n",
       "      <td>Rude, Demeaning, or Affronting Language</td>\n",
       "      <td>...</td>\n",
       "      <td>NaN</td>\n",
       "      <td>NaN</td>\n",
       "      <td>NaN</td>\n",
       "      <td>NaN</td>\n",
       "      <td>NaN</td>\n",
       "      <td>NaN</td>\n",
       "      <td>NaN</td>\n",
       "      <td>NaN</td>\n",
       "      <td>NaN</td>\n",
       "      <td>NaN</td>\n",
       "    </tr>\n",
       "    <tr>\n",
       "      <th>4</th>\n",
       "      <td>618db71f93906d54ba72c707c43c75d9</td>\n",
       "      <td>2015-09-15 00:00:00</td>\n",
       "      <td>Operations Division</td>\n",
       "      <td>Northwest District</td>\n",
       "      <td>NW Late Shift</td>\n",
       "      <td>NaN</td>\n",
       "      <td>Call for Service</td>\n",
       "      <td>CPCO (Informal)</td>\n",
       "      <td>Citizen Interaction</td>\n",
       "      <td>Failure to Make a Report When Approached by a ...</td>\n",
       "      <td>...</td>\n",
       "      <td>NaN</td>\n",
       "      <td>NaN</td>\n",
       "      <td>NaN</td>\n",
       "      <td>NaN</td>\n",
       "      <td>NaN</td>\n",
       "      <td>NaN</td>\n",
       "      <td>NaN</td>\n",
       "      <td>NaN</td>\n",
       "      <td>NaN</td>\n",
       "      <td>NaN</td>\n",
       "    </tr>\n",
       "    <tr>\n",
       "      <th>...</th>\n",
       "      <td>...</td>\n",
       "      <td>...</td>\n",
       "      <td>...</td>\n",
       "      <td>...</td>\n",
       "      <td>...</td>\n",
       "      <td>...</td>\n",
       "      <td>...</td>\n",
       "      <td>...</td>\n",
       "      <td>...</td>\n",
       "      <td>...</td>\n",
       "      <td>...</td>\n",
       "      <td>...</td>\n",
       "      <td>...</td>\n",
       "      <td>...</td>\n",
       "      <td>...</td>\n",
       "      <td>...</td>\n",
       "      <td>...</td>\n",
       "      <td>...</td>\n",
       "      <td>...</td>\n",
       "      <td>...</td>\n",
       "      <td>...</td>\n",
       "    </tr>\n",
       "    <tr>\n",
       "      <th>16821</th>\n",
       "      <td>81498210c84022bccb32701a28fed068</td>\n",
       "      <td>2019-06-28 00:00:00</td>\n",
       "      <td>Operations Division</td>\n",
       "      <td>East District</td>\n",
       "      <td>ED Late Shift</td>\n",
       "      <td>NaN</td>\n",
       "      <td>Traffic Stop</td>\n",
       "      <td>NaN</td>\n",
       "      <td>NaN</td>\n",
       "      <td>NaN</td>\n",
       "      <td>...</td>\n",
       "      <td>Minor Scrapes</td>\n",
       "      <td>No injuries noted or visible</td>\n",
       "      <td>Non-Compliant</td>\n",
       "      <td>Physical-Handcuffing</td>\n",
       "      <td>True</td>\n",
       "      <td>NaN</td>\n",
       "      <td>True</td>\n",
       "      <td>True</td>\n",
       "      <td>False</td>\n",
       "      <td>False</td>\n",
       "    </tr>\n",
       "    <tr>\n",
       "      <th>16822</th>\n",
       "      <td>81498210c84022bccb32701a28fed068</td>\n",
       "      <td>2019-06-28 00:00:00</td>\n",
       "      <td>Operations Division</td>\n",
       "      <td>East District</td>\n",
       "      <td>ED Late Shift</td>\n",
       "      <td>NaN</td>\n",
       "      <td>Traffic Stop</td>\n",
       "      <td>NaN</td>\n",
       "      <td>NaN</td>\n",
       "      <td>NaN</td>\n",
       "      <td>...</td>\n",
       "      <td>Minor Scrapes</td>\n",
       "      <td>No injuries noted or visible</td>\n",
       "      <td>Non-Compliant</td>\n",
       "      <td>Physical-Knee Strike</td>\n",
       "      <td>True</td>\n",
       "      <td>NaN</td>\n",
       "      <td>True</td>\n",
       "      <td>True</td>\n",
       "      <td>False</td>\n",
       "      <td>False</td>\n",
       "    </tr>\n",
       "    <tr>\n",
       "      <th>16823</th>\n",
       "      <td>81498210c84022bccb32701a28fed068</td>\n",
       "      <td>2019-06-28 00:00:00</td>\n",
       "      <td>Operations Division</td>\n",
       "      <td>East District</td>\n",
       "      <td>ED Late Shift</td>\n",
       "      <td>NaN</td>\n",
       "      <td>Traffic Stop</td>\n",
       "      <td>NaN</td>\n",
       "      <td>NaN</td>\n",
       "      <td>NaN</td>\n",
       "      <td>...</td>\n",
       "      <td>Minor Scrapes</td>\n",
       "      <td>No injuries noted or visible</td>\n",
       "      <td>Non-Compliant</td>\n",
       "      <td>Physical-Joint/Pressure</td>\n",
       "      <td>True</td>\n",
       "      <td>NaN</td>\n",
       "      <td>True</td>\n",
       "      <td>True</td>\n",
       "      <td>False</td>\n",
       "      <td>False</td>\n",
       "    </tr>\n",
       "    <tr>\n",
       "      <th>16824</th>\n",
       "      <td>81498210c84022bccb32701a28fed068</td>\n",
       "      <td>2019-06-28 00:00:00</td>\n",
       "      <td>Operations Division</td>\n",
       "      <td>East District</td>\n",
       "      <td>ED Late Shift</td>\n",
       "      <td>NaN</td>\n",
       "      <td>Traffic Stop</td>\n",
       "      <td>NaN</td>\n",
       "      <td>NaN</td>\n",
       "      <td>NaN</td>\n",
       "      <td>...</td>\n",
       "      <td>Minor Scrapes</td>\n",
       "      <td>No injuries noted or visible</td>\n",
       "      <td>Non-Compliant</td>\n",
       "      <td>Physical-Weight Leverage</td>\n",
       "      <td>True</td>\n",
       "      <td>NaN</td>\n",
       "      <td>True</td>\n",
       "      <td>True</td>\n",
       "      <td>False</td>\n",
       "      <td>False</td>\n",
       "    </tr>\n",
       "    <tr>\n",
       "      <th>16825</th>\n",
       "      <td>81498210c84022bccb32701a28fed068</td>\n",
       "      <td>2019-06-28 00:00:00</td>\n",
       "      <td>Operations Division</td>\n",
       "      <td>East District</td>\n",
       "      <td>ED Late Shift</td>\n",
       "      <td>NaN</td>\n",
       "      <td>Traffic Stop</td>\n",
       "      <td>NaN</td>\n",
       "      <td>NaN</td>\n",
       "      <td>NaN</td>\n",
       "      <td>...</td>\n",
       "      <td>Minor Scrapes</td>\n",
       "      <td>No injuries noted or visible</td>\n",
       "      <td>Non-Compliant</td>\n",
       "      <td>Physical-Other</td>\n",
       "      <td>True</td>\n",
       "      <td>NaN</td>\n",
       "      <td>True</td>\n",
       "      <td>True</td>\n",
       "      <td>False</td>\n",
       "      <td>False</td>\n",
       "    </tr>\n",
       "  </tbody>\n",
       "</table>\n",
       "<p>18845 rows × 32 columns</p>\n",
       "</div>"
      ],
      "text/plain": [
       "                                     id         occurredDate  \\\n",
       "0      a25a332352fb0bd97f021e0629e910a0  2015-09-14 00:00:00   \n",
       "1      a25a332352fb0bd97f021e0629e910a0  2015-09-14 00:00:00   \n",
       "2      73c1770e3517d1ee3a8cd79553818994  2015-09-15 00:00:00   \n",
       "3      24f09e6c595b7f083bc73c543d30dad0  2015-09-16 00:00:00   \n",
       "4      618db71f93906d54ba72c707c43c75d9  2015-09-15 00:00:00   \n",
       "...                                 ...                  ...   \n",
       "16821  81498210c84022bccb32701a28fed068  2019-06-28 00:00:00   \n",
       "16822  81498210c84022bccb32701a28fed068  2019-06-28 00:00:00   \n",
       "16823  81498210c84022bccb32701a28fed068  2019-06-28 00:00:00   \n",
       "16824  81498210c84022bccb32701a28fed068  2019-06-28 00:00:00   \n",
       "16825  81498210c84022bccb32701a28fed068  2019-06-28 00:00:00   \n",
       "\n",
       "                  division            district                  shift beat  \\\n",
       "0      Operations Division  Downtown  District        DT Middle Shift  NaN   \n",
       "1      Operations Division  Downtown  District        DT Middle Shift  NaN   \n",
       "2      Operations Division  Southeast District  SE Day Tactical Shift  NaN   \n",
       "3      Operations Division       East District        ED Middle Shift  NaN   \n",
       "4      Operations Division  Northwest District          NW Late Shift  NaN   \n",
       "...                    ...                 ...                    ...  ...   \n",
       "16821  Operations Division       East District          ED Late Shift  NaN   \n",
       "16822  Operations Division       East District          ED Late Shift  NaN   \n",
       "16823  Operations Division       East District          ED Late Shift  NaN   \n",
       "16824  Operations Division       East District          ED Late Shift  NaN   \n",
       "16825  Operations Division       East District          ED Late Shift  NaN   \n",
       "\n",
       "                   serviceType           source       allegationType  \\\n",
       "0                          NaN  CPCO (Informal)  Citizen Interaction   \n",
       "1                          NaN  CPCO (Informal)  Citizen Interaction   \n",
       "2               Not Applicable  CPCO (Informal)    Vehicle Operation   \n",
       "3      Self-Initiated Activity  CPCO (Informal)  Citizen Interaction   \n",
       "4             Call for Service  CPCO (Informal)  Citizen Interaction   \n",
       "...                        ...              ...                  ...   \n",
       "16821             Traffic Stop              NaN                  NaN   \n",
       "16822             Traffic Stop              NaN                  NaN   \n",
       "16823             Traffic Stop              NaN                  NaN   \n",
       "16824             Traffic Stop              NaN                  NaN   \n",
       "16825             Traffic Stop              NaN                  NaN   \n",
       "\n",
       "                                              allegation  ...  \\\n",
       "0                Rude, Demeaning, or Affronting Language  ...   \n",
       "1      Failure to Make a Report When Approached by a ...  ...   \n",
       "2                           Aggressive or Unsafe Driving  ...   \n",
       "3                Rude, Demeaning, or Affronting Language  ...   \n",
       "4      Failure to Make a Report When Approached by a ...  ...   \n",
       "...                                                  ...  ...   \n",
       "16821                                                NaN  ...   \n",
       "16822                                                NaN  ...   \n",
       "16823                                                NaN  ...   \n",
       "16824                                                NaN  ...   \n",
       "16825                                                NaN  ...   \n",
       "\n",
       "      residentCondition              officerCondition useOfForceReason  \\\n",
       "0                   NaN                           NaN              NaN   \n",
       "1                   NaN                           NaN              NaN   \n",
       "2                   NaN                           NaN              NaN   \n",
       "3                   NaN                           NaN              NaN   \n",
       "4                   NaN                           NaN              NaN   \n",
       "...                 ...                           ...              ...   \n",
       "16821     Minor Scrapes  No injuries noted or visible    Non-Compliant   \n",
       "16822     Minor Scrapes  No injuries noted or visible    Non-Compliant   \n",
       "16823     Minor Scrapes  No injuries noted or visible    Non-Compliant   \n",
       "16824     Minor Scrapes  No injuries noted or visible    Non-Compliant   \n",
       "16825     Minor Scrapes  No injuries noted or visible    Non-Compliant   \n",
       "\n",
       "               officerForceType arrestMade arrestCharges  residentInjured  \\\n",
       "0                           NaN        NaN           NaN              NaN   \n",
       "1                           NaN        NaN           NaN              NaN   \n",
       "2                           NaN        NaN           NaN              NaN   \n",
       "3                           NaN        NaN           NaN              NaN   \n",
       "4                           NaN        NaN           NaN              NaN   \n",
       "...                         ...        ...           ...              ...   \n",
       "16821      Physical-Handcuffing       True           NaN             True   \n",
       "16822      Physical-Knee Strike       True           NaN             True   \n",
       "16823   Physical-Joint/Pressure       True           NaN             True   \n",
       "16824  Physical-Weight Leverage       True           NaN             True   \n",
       "16825            Physical-Other       True           NaN             True   \n",
       "\n",
       "       residentHospitalized officerInjured officerHospitalized  \n",
       "0                       NaN            NaN                 NaN  \n",
       "1                       NaN            NaN                 NaN  \n",
       "2                       NaN            NaN                 NaN  \n",
       "3                       NaN            NaN                 NaN  \n",
       "4                       NaN            NaN                 NaN  \n",
       "...                     ...            ...                 ...  \n",
       "16821                  True          False               False  \n",
       "16822                  True          False               False  \n",
       "16823                  True          False               False  \n",
       "16824                  True          False               False  \n",
       "16825                  True          False               False  \n",
       "\n",
       "[18845 rows x 32 columns]"
      ]
     },
     "execution_count": 3,
     "metadata": {},
     "output_type": "execute_result"
    }
   ],
   "source": [
    "# Combining all the csv files\n",
    "df = pd.concat([pd.read_csv(f) for f in all_filenames])\n",
    "df"
   ]
  },
  {
   "cell_type": "markdown",
   "metadata": {},
   "source": [
    "***Feature selection***"
   ]
  },
  {
   "cell_type": "code",
   "execution_count": 4,
   "metadata": {},
   "outputs": [
    {
     "data": {
      "text/html": [
       "<div>\n",
       "<style scoped>\n",
       "    .dataframe tbody tr th:only-of-type {\n",
       "        vertical-align: middle;\n",
       "    }\n",
       "\n",
       "    .dataframe tbody tr th {\n",
       "        vertical-align: top;\n",
       "    }\n",
       "\n",
       "    .dataframe thead th {\n",
       "        text-align: right;\n",
       "    }\n",
       "</style>\n",
       "<table border=\"1\" class=\"dataframe\">\n",
       "  <thead>\n",
       "    <tr style=\"text-align: right;\">\n",
       "      <th></th>\n",
       "      <th>allegationType</th>\n",
       "      <th>officerRace</th>\n",
       "      <th>officerSex</th>\n",
       "      <th>officerIdentifier</th>\n",
       "      <th>residentWeaponUsed</th>\n",
       "      <th>officerWeaponUsed</th>\n",
       "      <th>useOfForceReason</th>\n",
       "      <th>officerForceType</th>\n",
       "    </tr>\n",
       "  </thead>\n",
       "  <tbody>\n",
       "    <tr>\n",
       "      <th>0</th>\n",
       "      <td>Citizen Interaction</td>\n",
       "      <td>Black</td>\n",
       "      <td>Female</td>\n",
       "      <td>D2551d43b19ebffa7bd2ee6527246459</td>\n",
       "      <td>NaN</td>\n",
       "      <td>NaN</td>\n",
       "      <td>NaN</td>\n",
       "      <td>NaN</td>\n",
       "    </tr>\n",
       "    <tr>\n",
       "      <th>1</th>\n",
       "      <td>Citizen Interaction</td>\n",
       "      <td>White</td>\n",
       "      <td>Male</td>\n",
       "      <td>9ccd97e1f4a3ff326f52ea6118ad10cf</td>\n",
       "      <td>NaN</td>\n",
       "      <td>NaN</td>\n",
       "      <td>NaN</td>\n",
       "      <td>NaN</td>\n",
       "    </tr>\n",
       "    <tr>\n",
       "      <th>2</th>\n",
       "      <td>Vehicle Operation</td>\n",
       "      <td>White</td>\n",
       "      <td>Female</td>\n",
       "      <td>86b3db6862d5c9c52be8c3a18dbdd35b</td>\n",
       "      <td>NaN</td>\n",
       "      <td>NaN</td>\n",
       "      <td>NaN</td>\n",
       "      <td>NaN</td>\n",
       "    </tr>\n",
       "    <tr>\n",
       "      <th>3</th>\n",
       "      <td>Citizen Interaction</td>\n",
       "      <td>White</td>\n",
       "      <td>Male</td>\n",
       "      <td>26e7ffb946a061efe6f9ce0376b5fec4</td>\n",
       "      <td>NaN</td>\n",
       "      <td>NaN</td>\n",
       "      <td>NaN</td>\n",
       "      <td>NaN</td>\n",
       "    </tr>\n",
       "    <tr>\n",
       "      <th>4</th>\n",
       "      <td>Citizen Interaction</td>\n",
       "      <td>Black</td>\n",
       "      <td>Male</td>\n",
       "      <td>Dd58d505aaff5d539d5936329f0fbbae</td>\n",
       "      <td>NaN</td>\n",
       "      <td>NaN</td>\n",
       "      <td>NaN</td>\n",
       "      <td>NaN</td>\n",
       "    </tr>\n",
       "    <tr>\n",
       "      <th>...</th>\n",
       "      <td>...</td>\n",
       "      <td>...</td>\n",
       "      <td>...</td>\n",
       "      <td>...</td>\n",
       "      <td>...</td>\n",
       "      <td>...</td>\n",
       "      <td>...</td>\n",
       "      <td>...</td>\n",
       "    </tr>\n",
       "    <tr>\n",
       "      <th>16821</th>\n",
       "      <td>NaN</td>\n",
       "      <td>Other</td>\n",
       "      <td>Male</td>\n",
       "      <td>4f5b0245132a579c404103a1e921faad</td>\n",
       "      <td>NaN</td>\n",
       "      <td>NaN</td>\n",
       "      <td>Non-Compliant</td>\n",
       "      <td>Physical-Handcuffing</td>\n",
       "    </tr>\n",
       "    <tr>\n",
       "      <th>16822</th>\n",
       "      <td>NaN</td>\n",
       "      <td>White</td>\n",
       "      <td>Female</td>\n",
       "      <td>df3f266d261dd9ae81516797fae2fdeb</td>\n",
       "      <td>NaN</td>\n",
       "      <td>NaN</td>\n",
       "      <td>Non-Compliant</td>\n",
       "      <td>Physical-Knee Strike</td>\n",
       "    </tr>\n",
       "    <tr>\n",
       "      <th>16823</th>\n",
       "      <td>NaN</td>\n",
       "      <td>White</td>\n",
       "      <td>Female</td>\n",
       "      <td>df3f266d261dd9ae81516797fae2fdeb</td>\n",
       "      <td>NaN</td>\n",
       "      <td>NaN</td>\n",
       "      <td>Non-Compliant</td>\n",
       "      <td>Physical-Joint/Pressure</td>\n",
       "    </tr>\n",
       "    <tr>\n",
       "      <th>16824</th>\n",
       "      <td>NaN</td>\n",
       "      <td>White</td>\n",
       "      <td>Female</td>\n",
       "      <td>df3f266d261dd9ae81516797fae2fdeb</td>\n",
       "      <td>NaN</td>\n",
       "      <td>NaN</td>\n",
       "      <td>Non-Compliant</td>\n",
       "      <td>Physical-Weight Leverage</td>\n",
       "    </tr>\n",
       "    <tr>\n",
       "      <th>16825</th>\n",
       "      <td>NaN</td>\n",
       "      <td>White</td>\n",
       "      <td>Female</td>\n",
       "      <td>df3f266d261dd9ae81516797fae2fdeb</td>\n",
       "      <td>NaN</td>\n",
       "      <td>NaN</td>\n",
       "      <td>Non-Compliant</td>\n",
       "      <td>Physical-Other</td>\n",
       "    </tr>\n",
       "  </tbody>\n",
       "</table>\n",
       "<p>18845 rows × 8 columns</p>\n",
       "</div>"
      ],
      "text/plain": [
       "            allegationType officerRace officerSex  \\\n",
       "0      Citizen Interaction       Black     Female   \n",
       "1      Citizen Interaction       White       Male   \n",
       "2        Vehicle Operation       White     Female   \n",
       "3      Citizen Interaction       White       Male   \n",
       "4      Citizen Interaction       Black       Male   \n",
       "...                    ...         ...        ...   \n",
       "16821                  NaN       Other       Male   \n",
       "16822                  NaN       White     Female   \n",
       "16823                  NaN       White     Female   \n",
       "16824                  NaN       White     Female   \n",
       "16825                  NaN       White     Female   \n",
       "\n",
       "                      officerIdentifier residentWeaponUsed officerWeaponUsed  \\\n",
       "0      D2551d43b19ebffa7bd2ee6527246459                NaN               NaN   \n",
       "1      9ccd97e1f4a3ff326f52ea6118ad10cf                NaN               NaN   \n",
       "2      86b3db6862d5c9c52be8c3a18dbdd35b                NaN               NaN   \n",
       "3      26e7ffb946a061efe6f9ce0376b5fec4                NaN               NaN   \n",
       "4      Dd58d505aaff5d539d5936329f0fbbae                NaN               NaN   \n",
       "...                                 ...                ...               ...   \n",
       "16821  4f5b0245132a579c404103a1e921faad                NaN               NaN   \n",
       "16822  df3f266d261dd9ae81516797fae2fdeb                NaN               NaN   \n",
       "16823  df3f266d261dd9ae81516797fae2fdeb                NaN               NaN   \n",
       "16824  df3f266d261dd9ae81516797fae2fdeb                NaN               NaN   \n",
       "16825  df3f266d261dd9ae81516797fae2fdeb                NaN               NaN   \n",
       "\n",
       "      useOfForceReason          officerForceType  \n",
       "0                  NaN                       NaN  \n",
       "1                  NaN                       NaN  \n",
       "2                  NaN                       NaN  \n",
       "3                  NaN                       NaN  \n",
       "4                  NaN                       NaN  \n",
       "...                ...                       ...  \n",
       "16821    Non-Compliant      Physical-Handcuffing  \n",
       "16822    Non-Compliant      Physical-Knee Strike  \n",
       "16823    Non-Compliant   Physical-Joint/Pressure  \n",
       "16824    Non-Compliant  Physical-Weight Leverage  \n",
       "16825    Non-Compliant            Physical-Other  \n",
       "\n",
       "[18845 rows x 8 columns]"
      ]
     },
     "execution_count": 4,
     "metadata": {},
     "output_type": "execute_result"
    }
   ],
   "source": [
    "temp_df = df.drop(['id','division','district','shift','beat','serviceType'\n",
    "         ,'source','allegation','residentCondition','officerCondition'\n",
    "         ,'arrestMade','arrestCharges','residentInjured','residentHospitalized'\n",
    "         ,'officerInjured','officerHospitalized','residentRace','finding','residentSex'\n",
    "         ,'residentAge','officerAge','officerYearsOfService'\n",
    "         ,'disposition','occurredDate'],axis=1)\n",
    "temp_df"
   ]
  },
  {
   "cell_type": "markdown",
   "metadata": {},
   "source": [
    "***Converting values to 0 or 1\n",
    "   - Encoding these categorical values\n",
    "   - Unable to use HotEncoders due to special conditions for police brutality\n",
    "   - Only use OneHotEncoder for gender and race***"
   ]
  },
  {
   "cell_type": "code",
   "execution_count": 5,
   "metadata": {},
   "outputs": [
    {
     "data": {
      "text/plain": [
       "array(['Citizen Interaction', 'Vehicle Operation',\n",
       "       'Substandard Performance', 'Breach of Discipline',\n",
       "       'Bias-Based Profiling', 'Use of Force', 'Equipment and Uniforms',\n",
       "       'Neglect of Duty', nan, 'Detention/Arrest', 'Search/Seizure',\n",
       "       'Animal Incidents', 'Off-Duty Employment', 'Field Operations',\n",
       "       'Civilian Employees', 'Prisoner Handling/Trans.',\n",
       "       'Conduct Unbecoming', 'Violation of Any Rule',\n",
       "       'Investigative Procedures', 'Violation of Any Law',\n",
       "       'Supv. Responsibilities', 'Info. Security/Access',\n",
       "       'Failure to Cooperate', 'Unit or Section SOPs'], dtype=object)"
      ]
     },
     "execution_count": 5,
     "metadata": {},
     "output_type": "execute_result"
    }
   ],
   "source": [
    "temp_df['allegationType'].unique()"
   ]
  },
  {
   "cell_type": "code",
   "execution_count": 6,
   "metadata": {},
   "outputs": [
    {
     "data": {
      "text/plain": [
       "0        1.0\n",
       "1        1.0\n",
       "2        1.0\n",
       "3        1.0\n",
       "4        1.0\n",
       "        ... \n",
       "16821    NaN\n",
       "16822    NaN\n",
       "16823    NaN\n",
       "16824    NaN\n",
       "16825    NaN\n",
       "Name: allegationType, Length: 18845, dtype: float64"
      ]
     },
     "execution_count": 6,
     "metadata": {},
     "output_type": "execute_result"
    }
   ],
   "source": [
    "temp_df['allegationType'] = temp_df.allegationType.map({'Citizen Interaction':1, 'Vehicle Operation':1, 'Citizen Interaction':1, 'Vehicle Operation':1,\n",
    "                                              'Substandard Performance':1, 'Breach of Discipline':1,\n",
    "                                              'Bias-Based Profiling':1, 'Use of Force':1, 'Equipment and Uniforms':1,\n",
    "                                              'Neglect of Duty':1, 'Detention/Arrest':1, 'Search/Seizure':1,\n",
    "                                              'Animal Incidents':1, 'Off-Duty Employment':1, 'Field Operations':1,\n",
    "                                              'Civilian Employees':1, 'Prisoner Handling/Trans.':1,\n",
    "                                              'Conduct Unbecoming':1, 'Violation of Any Rule':1,\n",
    "                                              'Investigative Procedures':1, 'Violation of Any Law':1,\n",
    "                                              'Supv. Responsibilities':1, 'Info. Security/Access':1,\n",
    "                                              'Failure to Cooperate':1, 'Unit or Section SOPs':1})\n",
    "temp_df['allegationType']"
   ]
  },
  {
   "cell_type": "code",
   "execution_count": 7,
   "metadata": {
    "scrolled": true
   },
   "outputs": [
    {
     "data": {
      "text/html": [
       "<div>\n",
       "<style scoped>\n",
       "    .dataframe tbody tr th:only-of-type {\n",
       "        vertical-align: middle;\n",
       "    }\n",
       "\n",
       "    .dataframe tbody tr th {\n",
       "        vertical-align: top;\n",
       "    }\n",
       "\n",
       "    .dataframe thead th {\n",
       "        text-align: right;\n",
       "    }\n",
       "</style>\n",
       "<table border=\"1\" class=\"dataframe\">\n",
       "  <thead>\n",
       "    <tr style=\"text-align: right;\">\n",
       "      <th></th>\n",
       "      <th>allegationType</th>\n",
       "      <th>officerRace</th>\n",
       "      <th>officerSex</th>\n",
       "      <th>officerIdentifier</th>\n",
       "      <th>residentWeaponUsed</th>\n",
       "      <th>officerWeaponUsed</th>\n",
       "      <th>useOfForceReason</th>\n",
       "      <th>officerForceType</th>\n",
       "    </tr>\n",
       "  </thead>\n",
       "  <tbody>\n",
       "    <tr>\n",
       "      <th>0</th>\n",
       "      <td>1.0</td>\n",
       "      <td>Black</td>\n",
       "      <td>Female</td>\n",
       "      <td>D2551d43b19ebffa7bd2ee6527246459</td>\n",
       "      <td>NaN</td>\n",
       "      <td>NaN</td>\n",
       "      <td>NaN</td>\n",
       "      <td>NaN</td>\n",
       "    </tr>\n",
       "    <tr>\n",
       "      <th>1</th>\n",
       "      <td>1.0</td>\n",
       "      <td>White</td>\n",
       "      <td>Male</td>\n",
       "      <td>9ccd97e1f4a3ff326f52ea6118ad10cf</td>\n",
       "      <td>NaN</td>\n",
       "      <td>NaN</td>\n",
       "      <td>NaN</td>\n",
       "      <td>NaN</td>\n",
       "    </tr>\n",
       "    <tr>\n",
       "      <th>2</th>\n",
       "      <td>1.0</td>\n",
       "      <td>White</td>\n",
       "      <td>Female</td>\n",
       "      <td>86b3db6862d5c9c52be8c3a18dbdd35b</td>\n",
       "      <td>NaN</td>\n",
       "      <td>NaN</td>\n",
       "      <td>NaN</td>\n",
       "      <td>NaN</td>\n",
       "    </tr>\n",
       "    <tr>\n",
       "      <th>3</th>\n",
       "      <td>1.0</td>\n",
       "      <td>White</td>\n",
       "      <td>Male</td>\n",
       "      <td>26e7ffb946a061efe6f9ce0376b5fec4</td>\n",
       "      <td>NaN</td>\n",
       "      <td>NaN</td>\n",
       "      <td>NaN</td>\n",
       "      <td>NaN</td>\n",
       "    </tr>\n",
       "    <tr>\n",
       "      <th>4</th>\n",
       "      <td>1.0</td>\n",
       "      <td>Black</td>\n",
       "      <td>Male</td>\n",
       "      <td>Dd58d505aaff5d539d5936329f0fbbae</td>\n",
       "      <td>NaN</td>\n",
       "      <td>NaN</td>\n",
       "      <td>NaN</td>\n",
       "      <td>NaN</td>\n",
       "    </tr>\n",
       "    <tr>\n",
       "      <th>...</th>\n",
       "      <td>...</td>\n",
       "      <td>...</td>\n",
       "      <td>...</td>\n",
       "      <td>...</td>\n",
       "      <td>...</td>\n",
       "      <td>...</td>\n",
       "      <td>...</td>\n",
       "      <td>...</td>\n",
       "    </tr>\n",
       "    <tr>\n",
       "      <th>16821</th>\n",
       "      <td>0.0</td>\n",
       "      <td>Other</td>\n",
       "      <td>Male</td>\n",
       "      <td>4f5b0245132a579c404103a1e921faad</td>\n",
       "      <td>NaN</td>\n",
       "      <td>NaN</td>\n",
       "      <td>Non-Compliant</td>\n",
       "      <td>Physical-Handcuffing</td>\n",
       "    </tr>\n",
       "    <tr>\n",
       "      <th>16822</th>\n",
       "      <td>0.0</td>\n",
       "      <td>White</td>\n",
       "      <td>Female</td>\n",
       "      <td>df3f266d261dd9ae81516797fae2fdeb</td>\n",
       "      <td>NaN</td>\n",
       "      <td>NaN</td>\n",
       "      <td>Non-Compliant</td>\n",
       "      <td>Physical-Knee Strike</td>\n",
       "    </tr>\n",
       "    <tr>\n",
       "      <th>16823</th>\n",
       "      <td>0.0</td>\n",
       "      <td>White</td>\n",
       "      <td>Female</td>\n",
       "      <td>df3f266d261dd9ae81516797fae2fdeb</td>\n",
       "      <td>NaN</td>\n",
       "      <td>NaN</td>\n",
       "      <td>Non-Compliant</td>\n",
       "      <td>Physical-Joint/Pressure</td>\n",
       "    </tr>\n",
       "    <tr>\n",
       "      <th>16824</th>\n",
       "      <td>0.0</td>\n",
       "      <td>White</td>\n",
       "      <td>Female</td>\n",
       "      <td>df3f266d261dd9ae81516797fae2fdeb</td>\n",
       "      <td>NaN</td>\n",
       "      <td>NaN</td>\n",
       "      <td>Non-Compliant</td>\n",
       "      <td>Physical-Weight Leverage</td>\n",
       "    </tr>\n",
       "    <tr>\n",
       "      <th>16825</th>\n",
       "      <td>0.0</td>\n",
       "      <td>White</td>\n",
       "      <td>Female</td>\n",
       "      <td>df3f266d261dd9ae81516797fae2fdeb</td>\n",
       "      <td>NaN</td>\n",
       "      <td>NaN</td>\n",
       "      <td>Non-Compliant</td>\n",
       "      <td>Physical-Other</td>\n",
       "    </tr>\n",
       "  </tbody>\n",
       "</table>\n",
       "<p>18845 rows × 8 columns</p>\n",
       "</div>"
      ],
      "text/plain": [
       "       allegationType officerRace officerSex  \\\n",
       "0                 1.0       Black     Female   \n",
       "1                 1.0       White       Male   \n",
       "2                 1.0       White     Female   \n",
       "3                 1.0       White       Male   \n",
       "4                 1.0       Black       Male   \n",
       "...               ...         ...        ...   \n",
       "16821             0.0       Other       Male   \n",
       "16822             0.0       White     Female   \n",
       "16823             0.0       White     Female   \n",
       "16824             0.0       White     Female   \n",
       "16825             0.0       White     Female   \n",
       "\n",
       "                      officerIdentifier residentWeaponUsed officerWeaponUsed  \\\n",
       "0      D2551d43b19ebffa7bd2ee6527246459                NaN               NaN   \n",
       "1      9ccd97e1f4a3ff326f52ea6118ad10cf                NaN               NaN   \n",
       "2      86b3db6862d5c9c52be8c3a18dbdd35b                NaN               NaN   \n",
       "3      26e7ffb946a061efe6f9ce0376b5fec4                NaN               NaN   \n",
       "4      Dd58d505aaff5d539d5936329f0fbbae                NaN               NaN   \n",
       "...                                 ...                ...               ...   \n",
       "16821  4f5b0245132a579c404103a1e921faad                NaN               NaN   \n",
       "16822  df3f266d261dd9ae81516797fae2fdeb                NaN               NaN   \n",
       "16823  df3f266d261dd9ae81516797fae2fdeb                NaN               NaN   \n",
       "16824  df3f266d261dd9ae81516797fae2fdeb                NaN               NaN   \n",
       "16825  df3f266d261dd9ae81516797fae2fdeb                NaN               NaN   \n",
       "\n",
       "      useOfForceReason          officerForceType  \n",
       "0                  NaN                       NaN  \n",
       "1                  NaN                       NaN  \n",
       "2                  NaN                       NaN  \n",
       "3                  NaN                       NaN  \n",
       "4                  NaN                       NaN  \n",
       "...                ...                       ...  \n",
       "16821    Non-Compliant      Physical-Handcuffing  \n",
       "16822    Non-Compliant      Physical-Knee Strike  \n",
       "16823    Non-Compliant   Physical-Joint/Pressure  \n",
       "16824    Non-Compliant  Physical-Weight Leverage  \n",
       "16825    Non-Compliant            Physical-Other  \n",
       "\n",
       "[18845 rows x 8 columns]"
      ]
     },
     "execution_count": 7,
     "metadata": {},
     "output_type": "execute_result"
    }
   ],
   "source": [
    "temp_df['allegationType'] = temp_df['allegationType'].fillna(0)\n",
    "temp_df"
   ]
  },
  {
   "cell_type": "code",
   "execution_count": 8,
   "metadata": {},
   "outputs": [
    {
     "data": {
      "text/plain": [
       "array([nan, 'Fleeing', 'Combative Suspect', 'Resisting Arrest',\n",
       "       'Non-Compliant', 'Assaulting Citizen(s)', 'Assaulting Officer(s)',\n",
       "       'Canine Incident'], dtype=object)"
      ]
     },
     "execution_count": 8,
     "metadata": {},
     "output_type": "execute_result"
    }
   ],
   "source": [
    "temp_df['useOfForceReason'].unique()"
   ]
  },
  {
   "cell_type": "code",
   "execution_count": 9,
   "metadata": {},
   "outputs": [
    {
     "data": {
      "text/plain": [
       "Physical-Handcuffing                3068\n",
       "Physical-Weight Leverage            2907\n",
       "Physical-Take Down                  2181\n",
       "Less Lethal-Taser                   1464\n",
       "Physical-Joint/Pressure             1004\n",
       "Physical-Other                       939\n",
       "Physical-Leg Sweep                   714\n",
       "Physical-Knee Strike                 651\n",
       "Physical-Fist Strike                 483\n",
       "Less Lethal-CS/OC                    438\n",
       "Canine Bite                          406\n",
       "Physical-Palm Strike                 250\n",
       "Physical-Hands, Fist, Feet           201\n",
       "Physical-Kick                        187\n",
       "Physical-Elbow Strike                118\n",
       "Less Lethal-Bean Bag                  92\n",
       "Less Lethal-Pepperball                88\n",
       "Less Lethal-Baton                     57\n",
       "Less Lethal-CS Fogger                 52\n",
       "Less Lethal-Other                     46\n",
       "Less Lethal-Burning CS                41\n",
       "Less Lethal-Personal CS/OC spray      35\n",
       "Lethal-Handgun                        22\n",
       "Less Lethal-Clearout OC               12\n",
       "Less Lethal-Bps Gas                    9\n",
       "Physical-Push                          7\n",
       "Less Lethal-CS Grenade                 6\n",
       "Lethal-Vehicle                         5\n",
       "Less Lethal-Flash Bang                 5\n",
       "Less Lethal-BPS Gas                    4\n",
       "Name: officerForceType, dtype: int64"
      ]
     },
     "execution_count": 9,
     "metadata": {},
     "output_type": "execute_result"
    }
   ],
   "source": [
    "temp_df['officerForceType'].value_counts()"
   ]
  },
  {
   "cell_type": "markdown",
   "metadata": {},
   "source": [
    "For reasons such as fleeing, combative suspect, resisting arrest, officers are not allowed to use lethal weapons and riot gears such as CS grenades, Fogger, Baton, etc."
   ]
  },
  {
   "cell_type": "code",
   "execution_count": 10,
   "metadata": {},
   "outputs": [
    {
     "data": {
      "text/html": [
       "<div>\n",
       "<style scoped>\n",
       "    .dataframe tbody tr th:only-of-type {\n",
       "        vertical-align: middle;\n",
       "    }\n",
       "\n",
       "    .dataframe tbody tr th {\n",
       "        vertical-align: top;\n",
       "    }\n",
       "\n",
       "    .dataframe thead th {\n",
       "        text-align: right;\n",
       "    }\n",
       "</style>\n",
       "<table border=\"1\" class=\"dataframe\">\n",
       "  <thead>\n",
       "    <tr style=\"text-align: right;\">\n",
       "      <th></th>\n",
       "      <th>allegationType</th>\n",
       "      <th>officerRace</th>\n",
       "      <th>officerSex</th>\n",
       "      <th>officerIdentifier</th>\n",
       "      <th>residentWeaponUsed</th>\n",
       "      <th>officerWeaponUsed</th>\n",
       "      <th>useOfForceReason</th>\n",
       "      <th>officerForceType</th>\n",
       "      <th>police_brutality</th>\n",
       "    </tr>\n",
       "  </thead>\n",
       "  <tbody>\n",
       "    <tr>\n",
       "      <th>0</th>\n",
       "      <td>1.0</td>\n",
       "      <td>Black</td>\n",
       "      <td>Female</td>\n",
       "      <td>D2551d43b19ebffa7bd2ee6527246459</td>\n",
       "      <td>NaN</td>\n",
       "      <td>NaN</td>\n",
       "      <td>NaN</td>\n",
       "      <td>NaN</td>\n",
       "      <td>0</td>\n",
       "    </tr>\n",
       "    <tr>\n",
       "      <th>1</th>\n",
       "      <td>1.0</td>\n",
       "      <td>White</td>\n",
       "      <td>Male</td>\n",
       "      <td>9ccd97e1f4a3ff326f52ea6118ad10cf</td>\n",
       "      <td>NaN</td>\n",
       "      <td>NaN</td>\n",
       "      <td>NaN</td>\n",
       "      <td>NaN</td>\n",
       "      <td>0</td>\n",
       "    </tr>\n",
       "    <tr>\n",
       "      <th>2</th>\n",
       "      <td>1.0</td>\n",
       "      <td>White</td>\n",
       "      <td>Female</td>\n",
       "      <td>86b3db6862d5c9c52be8c3a18dbdd35b</td>\n",
       "      <td>NaN</td>\n",
       "      <td>NaN</td>\n",
       "      <td>NaN</td>\n",
       "      <td>NaN</td>\n",
       "      <td>0</td>\n",
       "    </tr>\n",
       "    <tr>\n",
       "      <th>3</th>\n",
       "      <td>1.0</td>\n",
       "      <td>White</td>\n",
       "      <td>Male</td>\n",
       "      <td>26e7ffb946a061efe6f9ce0376b5fec4</td>\n",
       "      <td>NaN</td>\n",
       "      <td>NaN</td>\n",
       "      <td>NaN</td>\n",
       "      <td>NaN</td>\n",
       "      <td>0</td>\n",
       "    </tr>\n",
       "    <tr>\n",
       "      <th>4</th>\n",
       "      <td>1.0</td>\n",
       "      <td>Black</td>\n",
       "      <td>Male</td>\n",
       "      <td>Dd58d505aaff5d539d5936329f0fbbae</td>\n",
       "      <td>NaN</td>\n",
       "      <td>NaN</td>\n",
       "      <td>NaN</td>\n",
       "      <td>NaN</td>\n",
       "      <td>0</td>\n",
       "    </tr>\n",
       "    <tr>\n",
       "      <th>...</th>\n",
       "      <td>...</td>\n",
       "      <td>...</td>\n",
       "      <td>...</td>\n",
       "      <td>...</td>\n",
       "      <td>...</td>\n",
       "      <td>...</td>\n",
       "      <td>...</td>\n",
       "      <td>...</td>\n",
       "      <td>...</td>\n",
       "    </tr>\n",
       "    <tr>\n",
       "      <th>16821</th>\n",
       "      <td>0.0</td>\n",
       "      <td>Other</td>\n",
       "      <td>Male</td>\n",
       "      <td>4f5b0245132a579c404103a1e921faad</td>\n",
       "      <td>NaN</td>\n",
       "      <td>NaN</td>\n",
       "      <td>Non-Compliant</td>\n",
       "      <td>Physical-Handcuffing</td>\n",
       "      <td>0</td>\n",
       "    </tr>\n",
       "    <tr>\n",
       "      <th>16822</th>\n",
       "      <td>0.0</td>\n",
       "      <td>White</td>\n",
       "      <td>Female</td>\n",
       "      <td>df3f266d261dd9ae81516797fae2fdeb</td>\n",
       "      <td>NaN</td>\n",
       "      <td>NaN</td>\n",
       "      <td>Non-Compliant</td>\n",
       "      <td>Physical-Knee Strike</td>\n",
       "      <td>0</td>\n",
       "    </tr>\n",
       "    <tr>\n",
       "      <th>16823</th>\n",
       "      <td>0.0</td>\n",
       "      <td>White</td>\n",
       "      <td>Female</td>\n",
       "      <td>df3f266d261dd9ae81516797fae2fdeb</td>\n",
       "      <td>NaN</td>\n",
       "      <td>NaN</td>\n",
       "      <td>Non-Compliant</td>\n",
       "      <td>Physical-Joint/Pressure</td>\n",
       "      <td>0</td>\n",
       "    </tr>\n",
       "    <tr>\n",
       "      <th>16824</th>\n",
       "      <td>0.0</td>\n",
       "      <td>White</td>\n",
       "      <td>Female</td>\n",
       "      <td>df3f266d261dd9ae81516797fae2fdeb</td>\n",
       "      <td>NaN</td>\n",
       "      <td>NaN</td>\n",
       "      <td>Non-Compliant</td>\n",
       "      <td>Physical-Weight Leverage</td>\n",
       "      <td>0</td>\n",
       "    </tr>\n",
       "    <tr>\n",
       "      <th>16825</th>\n",
       "      <td>0.0</td>\n",
       "      <td>White</td>\n",
       "      <td>Female</td>\n",
       "      <td>df3f266d261dd9ae81516797fae2fdeb</td>\n",
       "      <td>NaN</td>\n",
       "      <td>NaN</td>\n",
       "      <td>Non-Compliant</td>\n",
       "      <td>Physical-Other</td>\n",
       "      <td>0</td>\n",
       "    </tr>\n",
       "  </tbody>\n",
       "</table>\n",
       "<p>18845 rows × 9 columns</p>\n",
       "</div>"
      ],
      "text/plain": [
       "       allegationType officerRace officerSex  \\\n",
       "0                 1.0       Black     Female   \n",
       "1                 1.0       White       Male   \n",
       "2                 1.0       White     Female   \n",
       "3                 1.0       White       Male   \n",
       "4                 1.0       Black       Male   \n",
       "...               ...         ...        ...   \n",
       "16821             0.0       Other       Male   \n",
       "16822             0.0       White     Female   \n",
       "16823             0.0       White     Female   \n",
       "16824             0.0       White     Female   \n",
       "16825             0.0       White     Female   \n",
       "\n",
       "                      officerIdentifier residentWeaponUsed officerWeaponUsed  \\\n",
       "0      D2551d43b19ebffa7bd2ee6527246459                NaN               NaN   \n",
       "1      9ccd97e1f4a3ff326f52ea6118ad10cf                NaN               NaN   \n",
       "2      86b3db6862d5c9c52be8c3a18dbdd35b                NaN               NaN   \n",
       "3      26e7ffb946a061efe6f9ce0376b5fec4                NaN               NaN   \n",
       "4      Dd58d505aaff5d539d5936329f0fbbae                NaN               NaN   \n",
       "...                                 ...                ...               ...   \n",
       "16821  4f5b0245132a579c404103a1e921faad                NaN               NaN   \n",
       "16822  df3f266d261dd9ae81516797fae2fdeb                NaN               NaN   \n",
       "16823  df3f266d261dd9ae81516797fae2fdeb                NaN               NaN   \n",
       "16824  df3f266d261dd9ae81516797fae2fdeb                NaN               NaN   \n",
       "16825  df3f266d261dd9ae81516797fae2fdeb                NaN               NaN   \n",
       "\n",
       "      useOfForceReason          officerForceType  police_brutality  \n",
       "0                  NaN                       NaN                 0  \n",
       "1                  NaN                       NaN                 0  \n",
       "2                  NaN                       NaN                 0  \n",
       "3                  NaN                       NaN                 0  \n",
       "4                  NaN                       NaN                 0  \n",
       "...                ...                       ...               ...  \n",
       "16821    Non-Compliant      Physical-Handcuffing                 0  \n",
       "16822    Non-Compliant      Physical-Knee Strike                 0  \n",
       "16823    Non-Compliant   Physical-Joint/Pressure                 0  \n",
       "16824    Non-Compliant  Physical-Weight Leverage                 0  \n",
       "16825    Non-Compliant            Physical-Other                 0  \n",
       "\n",
       "[18845 rows x 9 columns]"
      ]
     },
     "execution_count": 10,
     "metadata": {},
     "output_type": "execute_result"
    }
   ],
   "source": [
    "conditions = [\n",
    "    # Fleeing 19\n",
    "    temp_df['useOfForceReason'].eq('Fleeing') & temp_df['officerForceType'].eq('Less Lethal-Pepperball'),\n",
    "    temp_df['useOfForceReason'].eq('Fleeing') & temp_df['officerForceType'].eq('Less Lethal-Personal CS/OC spray'),\n",
    "    temp_df['useOfForceReason'].eq('Fleeing') & temp_df['officerForceType'].eq('Less Lethal-Baton'),\n",
    "    temp_df['useOfForceReason'].eq('Fleeing') & temp_df['officerForceType'].eq('Less Lethal-Bean Bag'),\n",
    "    temp_df['useOfForceReason'].eq('Fleeing') & temp_df['officerForceType'].eq('Less Lethal-BPS Gas'),\n",
    "    temp_df['useOfForceReason'].eq('Fleeing') & temp_df['officerForceType'].eq('Less Lethal-Burning CS'),\n",
    "    temp_df['useOfForceReason'].eq('Fleeing') & temp_df['officerForceType'].eq('Less Lethal-Clearout OC'),\n",
    "    temp_df['useOfForceReason'].eq('Fleeing') & temp_df['officerForceType'].eq('Less Lethal-CS Fogger'),\n",
    "    temp_df['useOfForceReason'].eq('Fleeing') & temp_df['officerForceType'].eq('Less Lethal-CS Grenade'),\n",
    "    temp_df['useOfForceReason'].eq('Fleeing') & temp_df['officerForceType'].eq('Less Lethal-CS/OC'),\n",
    "    temp_df['useOfForceReason'].eq('Fleeing') & temp_df['officerForceType'].eq('Less Lethal-Flash Bang'),\n",
    "    temp_df['useOfForceReason'].eq('Fleeing') & temp_df['officerForceType'].eq('Less Lethal-Pepperball'), \n",
    "    temp_df['useOfForceReason'].eq('Fleeing') & temp_df['officerForceType'].eq('Less Lethal-Taser'),\n",
    "    temp_df['useOfForceReason'].eq('Fleeing') & temp_df['officerWeaponUsed'].eq('IMPD - Duty Handgun'),\n",
    "    temp_df['useOfForceReason'].eq('Fleeing') & temp_df['officerWeaponUsed'].eq('Duty Handgun'),\n",
    "    temp_df['useOfForceReason'].eq('Fleeing') & temp_df['officerWeaponUsed'].eq('Personal Patrol Rifle'),\n",
    "    temp_df['useOfForceReason'].eq('Fleeing') & temp_df['officerWeaponUsed'].eq('IMPD - Patrol Rifle'),\n",
    "    temp_df['useOfForceReason'].eq('Fleeing') & temp_df['officerWeaponUsed'].eq('Personal Shotgun'),\n",
    "    temp_df['useOfForceReason'].eq('Fleeing') & temp_df['officerWeaponUsed'].eq('IMPD - Shotgun'),\n",
    "    # Combative suspect 15\n",
    "    temp_df['useOfForceReason'].eq('Combative Suspect') & temp_df['officerWeaponUsed'].eq('IMPD - Shotgun'),\n",
    "    temp_df['useOfForceReason'].eq('Combative Suspect') & temp_df['officerWeaponUsed'].eq('Personal Shotgun'),\n",
    "    temp_df['useOfForceReason'].eq('Combative Suspect') & temp_df['officerWeaponUsed'].eq('IMPD - Patrol Rifle'),\n",
    "    temp_df['useOfForceReason'].eq('Combative Suspect') & temp_df['officerWeaponUsed'].eq('Personal Patrol Rifle'),\n",
    "    temp_df['useOfForceReason'].eq('Combative Suspect') & temp_df['officerWeaponUsed'].eq('Duty Handgun'),\n",
    "    temp_df['useOfForceReason'].eq('Combative Suspect') & temp_df['officerWeaponUsed'].eq('IMPD - Duty Handgun'),\n",
    "    temp_df['useOfForceReason'].eq('Combative Suspect') & temp_df['officerForceType'].eq('Flash Bang'),\n",
    "    temp_df['useOfForceReason'].eq('Combative Suspect') & temp_df['officerForceType'].eq('IMPD - Shotgun'),\n",
    "    temp_df['useOfForceReason'].eq('Combative Suspect') & temp_df['officerForceType'].eq('Less Lethal-CS/OC'),\n",
    "    temp_df['useOfForceReason'].eq('Combative Suspect') & temp_df['officerForceType'].eq('IMPD - Shotgun'),\n",
    "    temp_df['useOfForceReason'].eq('Combative Suspect') & temp_df['officerForceType'].eq('Less Lethal-Flash Bang'),\n",
    "    temp_df['useOfForceReason'].eq('Combative Suspect') & temp_df['officerForceType'].eq('Less Lethal-CS Grenade'),\n",
    "    temp_df['useOfForceReason'].eq('Combative Suspect') & temp_df['officerForceType'].eq('Less Lethal-CS Fogger'),\n",
    "    temp_df['useOfForceReason'].eq('Combative Suspect') & temp_df['officerForceType'].eq('Less Lethal-Clearout OC'),\n",
    "    temp_df['useOfForceReason'].eq('Combative Suspect') & temp_df['officerForceType'].eq('Less Lethal-Burning CS'),\n",
    "    # Resisting Arrest 15\n",
    "    temp_df['useOfForceReason'].eq('Resisting Arrest') & temp_df['officerForceType'].eq('IMPD - Shotgun'),\n",
    "    temp_df['useOfForceReason'].eq('Resisting Arrest') & temp_df['officerForceType'].eq('Personal Shotgun'),\n",
    "    temp_df['useOfForceReason'].eq('Resisting Arrest') & temp_df['officerForceType'].eq('IMPD - Patrol Rifle'),\n",
    "    temp_df['useOfForceReason'].eq('Resisting Arrest') & temp_df['officerForceType'].eq('Personal Patrol Rifle'),\n",
    "    temp_df['useOfForceReason'].eq('Resisting Arrest') & temp_df['officerForceType'].eq('Duty Handgun'),\n",
    "    temp_df['useOfForceReason'].eq('Resisting Arrest') & temp_df['officerForceType'].eq('IMPD - Duty Handgun'),\n",
    "    temp_df['useOfForceReason'].eq('Resisting Arrest') & temp_df['officerForceType'].eq('Flash Bang'),\n",
    "    temp_df['useOfForceReason'].eq('Resisting Arrest') & temp_df['officerForceType'].eq('IMPD - Shotgun'),\n",
    "    temp_df['useOfForceReason'].eq('Resisting Arrest') & temp_df['officerForceType'].eq('Less Lethal-CS/OC'),\n",
    "    temp_df['useOfForceReason'].eq('Resisting Arrest') & temp_df['officerForceType'].eq('IMPD - Shotgun'),\n",
    "    temp_df['useOfForceReason'].eq('Resisting Arrest') & temp_df['officerForceType'].eq('Less Lethal-Flash Bang'),\n",
    "    temp_df['useOfForceReason'].eq('Resisting Arrest') & temp_df['officerForceType'].eq('Less Lethal-CS Grenade'),\n",
    "    temp_df['useOfForceReason'].eq('Resisting Arrest') & temp_df['officerForceType'].eq('Less Lethal-CS Fogger'),\n",
    "    temp_df['useOfForceReason'].eq('Resisting Arrest') & temp_df['officerForceType'].eq('Less Lethal-Clearout OC'),\n",
    "    temp_df['useOfForceReason'].eq('Resisting Arrest') & temp_df['officerForceType'].eq('Less Lethal-Burning CS'),\n",
    "    # Non Compliant 15\n",
    "    temp_df['useOfForceReason'].eq('Resisting Arrest') & temp_df['officerForceType'].eq('IMPD - Shotgun'),\n",
    "    temp_df['useOfForceReason'].eq('Resisting Arrest') & temp_df['officerForceType'].eq('Personal Shotgun'),\n",
    "    temp_df['useOfForceReason'].eq('Resisting Arrest') & temp_df['officerForceType'].eq('IMPD - Patrol Rifle'),\n",
    "    temp_df['useOfForceReason'].eq('Resisting Arrest') & temp_df['officerForceType'].eq('Personal Patrol Rifle'),\n",
    "    temp_df['useOfForceReason'].eq('Resisting Arrest') & temp_df['officerForceType'].eq('Duty Handgun'),\n",
    "    temp_df['useOfForceReason'].eq('Resisting Arrest') & temp_df['officerForceType'].eq('IMPD - Duty Handgun'),\n",
    "    temp_df['useOfForceReason'].eq('Resisting Arrest') & temp_df['officerForceType'].eq('Flash Bang'),\n",
    "    temp_df['useOfForceReason'].eq('Resisting Arrest') & temp_df['officerForceType'].eq('IMPD - Shotgun'),\n",
    "    temp_df['useOfForceReason'].eq('Resisting Arrest') & temp_df['officerForceType'].eq('Less Lethal-CS/OC'),\n",
    "    temp_df['useOfForceReason'].eq('Resisting Arrest') & temp_df['officerForceType'].eq('IMPD - Shotgun'),\n",
    "    temp_df['useOfForceReason'].eq('Resisting Arrest') & temp_df['officerForceType'].eq('Less Lethal-Flash Bang'),\n",
    "    temp_df['useOfForceReason'].eq('Resisting Arrest') & temp_df['officerForceType'].eq('Less Lethal-CS Grenade'),\n",
    "    temp_df['useOfForceReason'].eq('Resisting Arrest') & temp_df['officerForceType'].eq('Less Lethal-CS Fogger'),\n",
    "    temp_df['useOfForceReason'].eq('Resisting Arrest') & temp_df['officerForceType'].eq('Less Lethal-Clearout OC'),\n",
    "    temp_df['useOfForceReason'].eq('Resisting Arrest') & temp_df['officerForceType'].eq('Less Lethal-Burning CS'),\n",
    "]\n",
    "choices = [1,1,1,1,1,1,1,1,1,1,1,1,1,1,1,1,1,1,1,1,1,1,1,1,1,1,1,1,1,1,1,1,1,1,1,1,1,1,1,1,1,1,1,1,1,1,1,1,1,\n",
    "          1,1,1,1,1,1,1,1,1,1,1,1,1,1,1]\n",
    "temp_df['police_brutality'] = np.select(conditions, choices)\n",
    "temp_df"
   ]
  },
  {
   "cell_type": "code",
   "execution_count": 11,
   "metadata": {
    "scrolled": true
   },
   "outputs": [
    {
     "data": {
      "text/plain": [
       "0.0    17084\n",
       "1.0     1761\n",
       "Name: allegationType, dtype: int64"
      ]
     },
     "execution_count": 11,
     "metadata": {},
     "output_type": "execute_result"
    }
   ],
   "source": [
    "temp_df['allegationType'].value_counts()"
   ]
  },
  {
   "cell_type": "code",
   "execution_count": 12,
   "metadata": {},
   "outputs": [
    {
     "data": {
      "text/plain": [
       "0    18295\n",
       "1      550\n",
       "Name: police_brutality, dtype: int64"
      ]
     },
     "execution_count": 12,
     "metadata": {},
     "output_type": "execute_result"
    }
   ],
   "source": [
    "temp_df['police_brutality'].value_counts()"
   ]
  },
  {
   "cell_type": "code",
   "execution_count": 13,
   "metadata": {
    "scrolled": true
   },
   "outputs": [
    {
     "data": {
      "text/html": [
       "<div>\n",
       "<style scoped>\n",
       "    .dataframe tbody tr th:only-of-type {\n",
       "        vertical-align: middle;\n",
       "    }\n",
       "\n",
       "    .dataframe tbody tr th {\n",
       "        vertical-align: top;\n",
       "    }\n",
       "\n",
       "    .dataframe thead th {\n",
       "        text-align: right;\n",
       "    }\n",
       "</style>\n",
       "<table border=\"1\" class=\"dataframe\">\n",
       "  <thead>\n",
       "    <tr style=\"text-align: right;\">\n",
       "      <th></th>\n",
       "      <th>allegationType</th>\n",
       "      <th>officerRace</th>\n",
       "      <th>officerSex</th>\n",
       "      <th>officerIdentifier</th>\n",
       "      <th>residentWeaponUsed</th>\n",
       "      <th>police_brutality</th>\n",
       "    </tr>\n",
       "  </thead>\n",
       "  <tbody>\n",
       "    <tr>\n",
       "      <th>0</th>\n",
       "      <td>1.0</td>\n",
       "      <td>Black</td>\n",
       "      <td>Female</td>\n",
       "      <td>D2551d43b19ebffa7bd2ee6527246459</td>\n",
       "      <td>NaN</td>\n",
       "      <td>0</td>\n",
       "    </tr>\n",
       "    <tr>\n",
       "      <th>1</th>\n",
       "      <td>1.0</td>\n",
       "      <td>White</td>\n",
       "      <td>Male</td>\n",
       "      <td>9ccd97e1f4a3ff326f52ea6118ad10cf</td>\n",
       "      <td>NaN</td>\n",
       "      <td>0</td>\n",
       "    </tr>\n",
       "    <tr>\n",
       "      <th>2</th>\n",
       "      <td>1.0</td>\n",
       "      <td>White</td>\n",
       "      <td>Female</td>\n",
       "      <td>86b3db6862d5c9c52be8c3a18dbdd35b</td>\n",
       "      <td>NaN</td>\n",
       "      <td>0</td>\n",
       "    </tr>\n",
       "    <tr>\n",
       "      <th>3</th>\n",
       "      <td>1.0</td>\n",
       "      <td>White</td>\n",
       "      <td>Male</td>\n",
       "      <td>26e7ffb946a061efe6f9ce0376b5fec4</td>\n",
       "      <td>NaN</td>\n",
       "      <td>0</td>\n",
       "    </tr>\n",
       "    <tr>\n",
       "      <th>4</th>\n",
       "      <td>1.0</td>\n",
       "      <td>Black</td>\n",
       "      <td>Male</td>\n",
       "      <td>Dd58d505aaff5d539d5936329f0fbbae</td>\n",
       "      <td>NaN</td>\n",
       "      <td>0</td>\n",
       "    </tr>\n",
       "    <tr>\n",
       "      <th>...</th>\n",
       "      <td>...</td>\n",
       "      <td>...</td>\n",
       "      <td>...</td>\n",
       "      <td>...</td>\n",
       "      <td>...</td>\n",
       "      <td>...</td>\n",
       "    </tr>\n",
       "    <tr>\n",
       "      <th>16821</th>\n",
       "      <td>0.0</td>\n",
       "      <td>Other</td>\n",
       "      <td>Male</td>\n",
       "      <td>4f5b0245132a579c404103a1e921faad</td>\n",
       "      <td>NaN</td>\n",
       "      <td>0</td>\n",
       "    </tr>\n",
       "    <tr>\n",
       "      <th>16822</th>\n",
       "      <td>0.0</td>\n",
       "      <td>White</td>\n",
       "      <td>Female</td>\n",
       "      <td>df3f266d261dd9ae81516797fae2fdeb</td>\n",
       "      <td>NaN</td>\n",
       "      <td>0</td>\n",
       "    </tr>\n",
       "    <tr>\n",
       "      <th>16823</th>\n",
       "      <td>0.0</td>\n",
       "      <td>White</td>\n",
       "      <td>Female</td>\n",
       "      <td>df3f266d261dd9ae81516797fae2fdeb</td>\n",
       "      <td>NaN</td>\n",
       "      <td>0</td>\n",
       "    </tr>\n",
       "    <tr>\n",
       "      <th>16824</th>\n",
       "      <td>0.0</td>\n",
       "      <td>White</td>\n",
       "      <td>Female</td>\n",
       "      <td>df3f266d261dd9ae81516797fae2fdeb</td>\n",
       "      <td>NaN</td>\n",
       "      <td>0</td>\n",
       "    </tr>\n",
       "    <tr>\n",
       "      <th>16825</th>\n",
       "      <td>0.0</td>\n",
       "      <td>White</td>\n",
       "      <td>Female</td>\n",
       "      <td>df3f266d261dd9ae81516797fae2fdeb</td>\n",
       "      <td>NaN</td>\n",
       "      <td>0</td>\n",
       "    </tr>\n",
       "  </tbody>\n",
       "</table>\n",
       "<p>18845 rows × 6 columns</p>\n",
       "</div>"
      ],
      "text/plain": [
       "       allegationType officerRace officerSex  \\\n",
       "0                 1.0       Black     Female   \n",
       "1                 1.0       White       Male   \n",
       "2                 1.0       White     Female   \n",
       "3                 1.0       White       Male   \n",
       "4                 1.0       Black       Male   \n",
       "...               ...         ...        ...   \n",
       "16821             0.0       Other       Male   \n",
       "16822             0.0       White     Female   \n",
       "16823             0.0       White     Female   \n",
       "16824             0.0       White     Female   \n",
       "16825             0.0       White     Female   \n",
       "\n",
       "                      officerIdentifier residentWeaponUsed  police_brutality  \n",
       "0      D2551d43b19ebffa7bd2ee6527246459                NaN                 0  \n",
       "1      9ccd97e1f4a3ff326f52ea6118ad10cf                NaN                 0  \n",
       "2      86b3db6862d5c9c52be8c3a18dbdd35b                NaN                 0  \n",
       "3      26e7ffb946a061efe6f9ce0376b5fec4                NaN                 0  \n",
       "4      Dd58d505aaff5d539d5936329f0fbbae                NaN                 0  \n",
       "...                                 ...                ...               ...  \n",
       "16821  4f5b0245132a579c404103a1e921faad                NaN                 0  \n",
       "16822  df3f266d261dd9ae81516797fae2fdeb                NaN                 0  \n",
       "16823  df3f266d261dd9ae81516797fae2fdeb                NaN                 0  \n",
       "16824  df3f266d261dd9ae81516797fae2fdeb                NaN                 0  \n",
       "16825  df3f266d261dd9ae81516797fae2fdeb                NaN                 0  \n",
       "\n",
       "[18845 rows x 6 columns]"
      ]
     },
     "execution_count": 13,
     "metadata": {},
     "output_type": "execute_result"
    }
   ],
   "source": [
    "temp_df = temp_df.drop(['useOfForceReason', 'officerForceType', 'officerWeaponUsed'], axis=1)\n",
    "temp_df"
   ]
  },
  {
   "cell_type": "code",
   "execution_count": 14,
   "metadata": {
    "scrolled": true
   },
   "outputs": [],
   "source": [
    "temp_df = temp_df.rename(columns={'allegationType': 'receivedComplaint(s)', 'residentWeaponUsed':'involvedInShooting'})"
   ]
  },
  {
   "cell_type": "code",
   "execution_count": 15,
   "metadata": {},
   "outputs": [
    {
     "data": {
      "text/plain": [
       "0        NaN\n",
       "1        NaN\n",
       "2        NaN\n",
       "3        NaN\n",
       "4        NaN\n",
       "        ... \n",
       "16821    NaN\n",
       "16822    NaN\n",
       "16823    NaN\n",
       "16824    NaN\n",
       "16825    NaN\n",
       "Name: involvedInShooting, Length: 18845, dtype: object"
      ]
     },
     "execution_count": 15,
     "metadata": {},
     "output_type": "execute_result"
    }
   ],
   "source": [
    "temp_df['involvedInShooting']"
   ]
  },
  {
   "cell_type": "code",
   "execution_count": 16,
   "metadata": {},
   "outputs": [
    {
     "data": {
      "text/html": [
       "<div>\n",
       "<style scoped>\n",
       "    .dataframe tbody tr th:only-of-type {\n",
       "        vertical-align: middle;\n",
       "    }\n",
       "\n",
       "    .dataframe tbody tr th {\n",
       "        vertical-align: top;\n",
       "    }\n",
       "\n",
       "    .dataframe thead th {\n",
       "        text-align: right;\n",
       "    }\n",
       "</style>\n",
       "<table border=\"1\" class=\"dataframe\">\n",
       "  <thead>\n",
       "    <tr style=\"text-align: right;\">\n",
       "      <th></th>\n",
       "      <th>receivedComplaint(s)</th>\n",
       "      <th>officerRace</th>\n",
       "      <th>officerSex</th>\n",
       "      <th>officerIdentifier</th>\n",
       "      <th>involvedInShooting</th>\n",
       "      <th>police_brutality</th>\n",
       "    </tr>\n",
       "  </thead>\n",
       "  <tbody>\n",
       "    <tr>\n",
       "      <th>0</th>\n",
       "      <td>1.0</td>\n",
       "      <td>Black</td>\n",
       "      <td>Female</td>\n",
       "      <td>D2551d43b19ebffa7bd2ee6527246459</td>\n",
       "      <td>NaN</td>\n",
       "      <td>0</td>\n",
       "    </tr>\n",
       "    <tr>\n",
       "      <th>1</th>\n",
       "      <td>1.0</td>\n",
       "      <td>White</td>\n",
       "      <td>Male</td>\n",
       "      <td>9ccd97e1f4a3ff326f52ea6118ad10cf</td>\n",
       "      <td>NaN</td>\n",
       "      <td>0</td>\n",
       "    </tr>\n",
       "    <tr>\n",
       "      <th>2</th>\n",
       "      <td>1.0</td>\n",
       "      <td>White</td>\n",
       "      <td>Female</td>\n",
       "      <td>86b3db6862d5c9c52be8c3a18dbdd35b</td>\n",
       "      <td>NaN</td>\n",
       "      <td>0</td>\n",
       "    </tr>\n",
       "    <tr>\n",
       "      <th>3</th>\n",
       "      <td>1.0</td>\n",
       "      <td>White</td>\n",
       "      <td>Male</td>\n",
       "      <td>26e7ffb946a061efe6f9ce0376b5fec4</td>\n",
       "      <td>NaN</td>\n",
       "      <td>0</td>\n",
       "    </tr>\n",
       "    <tr>\n",
       "      <th>4</th>\n",
       "      <td>1.0</td>\n",
       "      <td>Black</td>\n",
       "      <td>Male</td>\n",
       "      <td>Dd58d505aaff5d539d5936329f0fbbae</td>\n",
       "      <td>NaN</td>\n",
       "      <td>0</td>\n",
       "    </tr>\n",
       "    <tr>\n",
       "      <th>...</th>\n",
       "      <td>...</td>\n",
       "      <td>...</td>\n",
       "      <td>...</td>\n",
       "      <td>...</td>\n",
       "      <td>...</td>\n",
       "      <td>...</td>\n",
       "    </tr>\n",
       "    <tr>\n",
       "      <th>16821</th>\n",
       "      <td>0.0</td>\n",
       "      <td>Other</td>\n",
       "      <td>Male</td>\n",
       "      <td>4f5b0245132a579c404103a1e921faad</td>\n",
       "      <td>NaN</td>\n",
       "      <td>0</td>\n",
       "    </tr>\n",
       "    <tr>\n",
       "      <th>16822</th>\n",
       "      <td>0.0</td>\n",
       "      <td>White</td>\n",
       "      <td>Female</td>\n",
       "      <td>df3f266d261dd9ae81516797fae2fdeb</td>\n",
       "      <td>NaN</td>\n",
       "      <td>0</td>\n",
       "    </tr>\n",
       "    <tr>\n",
       "      <th>16823</th>\n",
       "      <td>0.0</td>\n",
       "      <td>White</td>\n",
       "      <td>Female</td>\n",
       "      <td>df3f266d261dd9ae81516797fae2fdeb</td>\n",
       "      <td>NaN</td>\n",
       "      <td>0</td>\n",
       "    </tr>\n",
       "    <tr>\n",
       "      <th>16824</th>\n",
       "      <td>0.0</td>\n",
       "      <td>White</td>\n",
       "      <td>Female</td>\n",
       "      <td>df3f266d261dd9ae81516797fae2fdeb</td>\n",
       "      <td>NaN</td>\n",
       "      <td>0</td>\n",
       "    </tr>\n",
       "    <tr>\n",
       "      <th>16825</th>\n",
       "      <td>0.0</td>\n",
       "      <td>White</td>\n",
       "      <td>Female</td>\n",
       "      <td>df3f266d261dd9ae81516797fae2fdeb</td>\n",
       "      <td>NaN</td>\n",
       "      <td>0</td>\n",
       "    </tr>\n",
       "  </tbody>\n",
       "</table>\n",
       "<p>18845 rows × 6 columns</p>\n",
       "</div>"
      ],
      "text/plain": [
       "       receivedComplaint(s) officerRace officerSex  \\\n",
       "0                       1.0       Black     Female   \n",
       "1                       1.0       White       Male   \n",
       "2                       1.0       White     Female   \n",
       "3                       1.0       White       Male   \n",
       "4                       1.0       Black       Male   \n",
       "...                     ...         ...        ...   \n",
       "16821                   0.0       Other       Male   \n",
       "16822                   0.0       White     Female   \n",
       "16823                   0.0       White     Female   \n",
       "16824                   0.0       White     Female   \n",
       "16825                   0.0       White     Female   \n",
       "\n",
       "                      officerIdentifier  involvedInShooting  police_brutality  \n",
       "0      D2551d43b19ebffa7bd2ee6527246459                 NaN                 0  \n",
       "1      9ccd97e1f4a3ff326f52ea6118ad10cf                 NaN                 0  \n",
       "2      86b3db6862d5c9c52be8c3a18dbdd35b                 NaN                 0  \n",
       "3      26e7ffb946a061efe6f9ce0376b5fec4                 NaN                 0  \n",
       "4      Dd58d505aaff5d539d5936329f0fbbae                 NaN                 0  \n",
       "...                                 ...                 ...               ...  \n",
       "16821  4f5b0245132a579c404103a1e921faad                 NaN                 0  \n",
       "16822  df3f266d261dd9ae81516797fae2fdeb                 NaN                 0  \n",
       "16823  df3f266d261dd9ae81516797fae2fdeb                 NaN                 0  \n",
       "16824  df3f266d261dd9ae81516797fae2fdeb                 NaN                 0  \n",
       "16825  df3f266d261dd9ae81516797fae2fdeb                 NaN                 0  \n",
       "\n",
       "[18845 rows x 6 columns]"
      ]
     },
     "execution_count": 16,
     "metadata": {},
     "output_type": "execute_result"
    }
   ],
   "source": [
    "temp_df['involvedInShooting'] = temp_df.involvedInShooting.map({'Handgun':1, 'Misc Weapon':1, 'Unarmed':0, 'Knife':1,\n",
    "                                                                'Rifle':1})\n",
    "temp_df"
   ]
  },
  {
   "cell_type": "code",
   "execution_count": 17,
   "metadata": {},
   "outputs": [
    {
     "data": {
      "text/html": [
       "<div>\n",
       "<style scoped>\n",
       "    .dataframe tbody tr th:only-of-type {\n",
       "        vertical-align: middle;\n",
       "    }\n",
       "\n",
       "    .dataframe tbody tr th {\n",
       "        vertical-align: top;\n",
       "    }\n",
       "\n",
       "    .dataframe thead th {\n",
       "        text-align: right;\n",
       "    }\n",
       "</style>\n",
       "<table border=\"1\" class=\"dataframe\">\n",
       "  <thead>\n",
       "    <tr style=\"text-align: right;\">\n",
       "      <th></th>\n",
       "      <th>receivedComplaint(s)</th>\n",
       "      <th>officerRace</th>\n",
       "      <th>officerSex</th>\n",
       "      <th>officerIdentifier</th>\n",
       "      <th>involvedInShooting</th>\n",
       "      <th>police_brutality</th>\n",
       "    </tr>\n",
       "  </thead>\n",
       "  <tbody>\n",
       "    <tr>\n",
       "      <th>0</th>\n",
       "      <td>1.0</td>\n",
       "      <td>Black</td>\n",
       "      <td>Female</td>\n",
       "      <td>D2551d43b19ebffa7bd2ee6527246459</td>\n",
       "      <td>0.0</td>\n",
       "      <td>0</td>\n",
       "    </tr>\n",
       "    <tr>\n",
       "      <th>1</th>\n",
       "      <td>1.0</td>\n",
       "      <td>White</td>\n",
       "      <td>Male</td>\n",
       "      <td>9ccd97e1f4a3ff326f52ea6118ad10cf</td>\n",
       "      <td>0.0</td>\n",
       "      <td>0</td>\n",
       "    </tr>\n",
       "    <tr>\n",
       "      <th>2</th>\n",
       "      <td>1.0</td>\n",
       "      <td>White</td>\n",
       "      <td>Female</td>\n",
       "      <td>86b3db6862d5c9c52be8c3a18dbdd35b</td>\n",
       "      <td>0.0</td>\n",
       "      <td>0</td>\n",
       "    </tr>\n",
       "    <tr>\n",
       "      <th>3</th>\n",
       "      <td>1.0</td>\n",
       "      <td>White</td>\n",
       "      <td>Male</td>\n",
       "      <td>26e7ffb946a061efe6f9ce0376b5fec4</td>\n",
       "      <td>0.0</td>\n",
       "      <td>0</td>\n",
       "    </tr>\n",
       "    <tr>\n",
       "      <th>4</th>\n",
       "      <td>1.0</td>\n",
       "      <td>Black</td>\n",
       "      <td>Male</td>\n",
       "      <td>Dd58d505aaff5d539d5936329f0fbbae</td>\n",
       "      <td>0.0</td>\n",
       "      <td>0</td>\n",
       "    </tr>\n",
       "    <tr>\n",
       "      <th>...</th>\n",
       "      <td>...</td>\n",
       "      <td>...</td>\n",
       "      <td>...</td>\n",
       "      <td>...</td>\n",
       "      <td>...</td>\n",
       "      <td>...</td>\n",
       "    </tr>\n",
       "    <tr>\n",
       "      <th>16821</th>\n",
       "      <td>0.0</td>\n",
       "      <td>Other</td>\n",
       "      <td>Male</td>\n",
       "      <td>4f5b0245132a579c404103a1e921faad</td>\n",
       "      <td>0.0</td>\n",
       "      <td>0</td>\n",
       "    </tr>\n",
       "    <tr>\n",
       "      <th>16822</th>\n",
       "      <td>0.0</td>\n",
       "      <td>White</td>\n",
       "      <td>Female</td>\n",
       "      <td>df3f266d261dd9ae81516797fae2fdeb</td>\n",
       "      <td>0.0</td>\n",
       "      <td>0</td>\n",
       "    </tr>\n",
       "    <tr>\n",
       "      <th>16823</th>\n",
       "      <td>0.0</td>\n",
       "      <td>White</td>\n",
       "      <td>Female</td>\n",
       "      <td>df3f266d261dd9ae81516797fae2fdeb</td>\n",
       "      <td>0.0</td>\n",
       "      <td>0</td>\n",
       "    </tr>\n",
       "    <tr>\n",
       "      <th>16824</th>\n",
       "      <td>0.0</td>\n",
       "      <td>White</td>\n",
       "      <td>Female</td>\n",
       "      <td>df3f266d261dd9ae81516797fae2fdeb</td>\n",
       "      <td>0.0</td>\n",
       "      <td>0</td>\n",
       "    </tr>\n",
       "    <tr>\n",
       "      <th>16825</th>\n",
       "      <td>0.0</td>\n",
       "      <td>White</td>\n",
       "      <td>Female</td>\n",
       "      <td>df3f266d261dd9ae81516797fae2fdeb</td>\n",
       "      <td>0.0</td>\n",
       "      <td>0</td>\n",
       "    </tr>\n",
       "  </tbody>\n",
       "</table>\n",
       "<p>18845 rows × 6 columns</p>\n",
       "</div>"
      ],
      "text/plain": [
       "       receivedComplaint(s) officerRace officerSex  \\\n",
       "0                       1.0       Black     Female   \n",
       "1                       1.0       White       Male   \n",
       "2                       1.0       White     Female   \n",
       "3                       1.0       White       Male   \n",
       "4                       1.0       Black       Male   \n",
       "...                     ...         ...        ...   \n",
       "16821                   0.0       Other       Male   \n",
       "16822                   0.0       White     Female   \n",
       "16823                   0.0       White     Female   \n",
       "16824                   0.0       White     Female   \n",
       "16825                   0.0       White     Female   \n",
       "\n",
       "                      officerIdentifier  involvedInShooting  police_brutality  \n",
       "0      D2551d43b19ebffa7bd2ee6527246459                 0.0                 0  \n",
       "1      9ccd97e1f4a3ff326f52ea6118ad10cf                 0.0                 0  \n",
       "2      86b3db6862d5c9c52be8c3a18dbdd35b                 0.0                 0  \n",
       "3      26e7ffb946a061efe6f9ce0376b5fec4                 0.0                 0  \n",
       "4      Dd58d505aaff5d539d5936329f0fbbae                 0.0                 0  \n",
       "...                                 ...                 ...               ...  \n",
       "16821  4f5b0245132a579c404103a1e921faad                 0.0                 0  \n",
       "16822  df3f266d261dd9ae81516797fae2fdeb                 0.0                 0  \n",
       "16823  df3f266d261dd9ae81516797fae2fdeb                 0.0                 0  \n",
       "16824  df3f266d261dd9ae81516797fae2fdeb                 0.0                 0  \n",
       "16825  df3f266d261dd9ae81516797fae2fdeb                 0.0                 0  \n",
       "\n",
       "[18845 rows x 6 columns]"
      ]
     },
     "execution_count": 17,
     "metadata": {},
     "output_type": "execute_result"
    }
   ],
   "source": [
    "temp_df['involvedInShooting'] = temp_df['involvedInShooting'].replace(np.nan, 0)\n",
    "temp_df"
   ]
  },
  {
   "cell_type": "code",
   "execution_count": 18,
   "metadata": {},
   "outputs": [],
   "source": [
    "temp_df.to_csv('output.csv', index=False)"
   ]
  },
  {
   "cell_type": "code",
   "execution_count": 18,
   "metadata": {},
   "outputs": [
    {
     "data": {
      "text/plain": [
       "0.0    18811\n",
       "1.0       34\n",
       "Name: involvedInShooting, dtype: int64"
      ]
     },
     "execution_count": 18,
     "metadata": {},
     "output_type": "execute_result"
    }
   ],
   "source": [
    "temp_df['involvedInShooting'].value_counts()"
   ]
  },
  {
   "cell_type": "code",
   "execution_count": 19,
   "metadata": {},
   "outputs": [
    {
     "data": {
      "text/plain": [
       "0.0    17084\n",
       "1.0     1761\n",
       "Name: receivedComplaint(s), dtype: int64"
      ]
     },
     "execution_count": 19,
     "metadata": {},
     "output_type": "execute_result"
    }
   ],
   "source": [
    "temp_df['receivedComplaint(s)'].value_counts()"
   ]
  },
  {
   "cell_type": "markdown",
   "metadata": {},
   "source": [
    "***Hot encoding race and gender. Converting them to integer values***"
   ]
  },
  {
   "cell_type": "code",
   "execution_count": 20,
   "metadata": {},
   "outputs": [],
   "source": [
    "temp_df = pd.get_dummies(temp_df, columns=['officerRace', 'officerSex'])"
   ]
  },
  {
   "cell_type": "code",
   "execution_count": 21,
   "metadata": {
    "scrolled": true
   },
   "outputs": [
    {
     "data": {
      "text/html": [
       "<div>\n",
       "<style scoped>\n",
       "    .dataframe tbody tr th:only-of-type {\n",
       "        vertical-align: middle;\n",
       "    }\n",
       "\n",
       "    .dataframe tbody tr th {\n",
       "        vertical-align: top;\n",
       "    }\n",
       "\n",
       "    .dataframe thead th {\n",
       "        text-align: right;\n",
       "    }\n",
       "</style>\n",
       "<table border=\"1\" class=\"dataframe\">\n",
       "  <thead>\n",
       "    <tr style=\"text-align: right;\">\n",
       "      <th></th>\n",
       "      <th>receivedComplaint(s)</th>\n",
       "      <th>officerIdentifier</th>\n",
       "      <th>involvedInShooting</th>\n",
       "      <th>police_brutality</th>\n",
       "      <th>officerRace_Asian</th>\n",
       "      <th>officerRace_Black</th>\n",
       "      <th>officerRace_Hispanic</th>\n",
       "      <th>officerRace_Other</th>\n",
       "      <th>officerRace_White</th>\n",
       "      <th>officerSex_Female</th>\n",
       "      <th>officerSex_Male</th>\n",
       "    </tr>\n",
       "  </thead>\n",
       "  <tbody>\n",
       "    <tr>\n",
       "      <th>0</th>\n",
       "      <td>1.0</td>\n",
       "      <td>D2551d43b19ebffa7bd2ee6527246459</td>\n",
       "      <td>0.0</td>\n",
       "      <td>0</td>\n",
       "      <td>0</td>\n",
       "      <td>1</td>\n",
       "      <td>0</td>\n",
       "      <td>0</td>\n",
       "      <td>0</td>\n",
       "      <td>1</td>\n",
       "      <td>0</td>\n",
       "    </tr>\n",
       "    <tr>\n",
       "      <th>1</th>\n",
       "      <td>1.0</td>\n",
       "      <td>9ccd97e1f4a3ff326f52ea6118ad10cf</td>\n",
       "      <td>0.0</td>\n",
       "      <td>0</td>\n",
       "      <td>0</td>\n",
       "      <td>0</td>\n",
       "      <td>0</td>\n",
       "      <td>0</td>\n",
       "      <td>1</td>\n",
       "      <td>0</td>\n",
       "      <td>1</td>\n",
       "    </tr>\n",
       "    <tr>\n",
       "      <th>2</th>\n",
       "      <td>1.0</td>\n",
       "      <td>86b3db6862d5c9c52be8c3a18dbdd35b</td>\n",
       "      <td>0.0</td>\n",
       "      <td>0</td>\n",
       "      <td>0</td>\n",
       "      <td>0</td>\n",
       "      <td>0</td>\n",
       "      <td>0</td>\n",
       "      <td>1</td>\n",
       "      <td>1</td>\n",
       "      <td>0</td>\n",
       "    </tr>\n",
       "    <tr>\n",
       "      <th>3</th>\n",
       "      <td>1.0</td>\n",
       "      <td>26e7ffb946a061efe6f9ce0376b5fec4</td>\n",
       "      <td>0.0</td>\n",
       "      <td>0</td>\n",
       "      <td>0</td>\n",
       "      <td>0</td>\n",
       "      <td>0</td>\n",
       "      <td>0</td>\n",
       "      <td>1</td>\n",
       "      <td>0</td>\n",
       "      <td>1</td>\n",
       "    </tr>\n",
       "    <tr>\n",
       "      <th>4</th>\n",
       "      <td>1.0</td>\n",
       "      <td>Dd58d505aaff5d539d5936329f0fbbae</td>\n",
       "      <td>0.0</td>\n",
       "      <td>0</td>\n",
       "      <td>0</td>\n",
       "      <td>1</td>\n",
       "      <td>0</td>\n",
       "      <td>0</td>\n",
       "      <td>0</td>\n",
       "      <td>0</td>\n",
       "      <td>1</td>\n",
       "    </tr>\n",
       "    <tr>\n",
       "      <th>...</th>\n",
       "      <td>...</td>\n",
       "      <td>...</td>\n",
       "      <td>...</td>\n",
       "      <td>...</td>\n",
       "      <td>...</td>\n",
       "      <td>...</td>\n",
       "      <td>...</td>\n",
       "      <td>...</td>\n",
       "      <td>...</td>\n",
       "      <td>...</td>\n",
       "      <td>...</td>\n",
       "    </tr>\n",
       "    <tr>\n",
       "      <th>16821</th>\n",
       "      <td>0.0</td>\n",
       "      <td>4f5b0245132a579c404103a1e921faad</td>\n",
       "      <td>0.0</td>\n",
       "      <td>0</td>\n",
       "      <td>0</td>\n",
       "      <td>0</td>\n",
       "      <td>0</td>\n",
       "      <td>1</td>\n",
       "      <td>0</td>\n",
       "      <td>0</td>\n",
       "      <td>1</td>\n",
       "    </tr>\n",
       "    <tr>\n",
       "      <th>16822</th>\n",
       "      <td>0.0</td>\n",
       "      <td>df3f266d261dd9ae81516797fae2fdeb</td>\n",
       "      <td>0.0</td>\n",
       "      <td>0</td>\n",
       "      <td>0</td>\n",
       "      <td>0</td>\n",
       "      <td>0</td>\n",
       "      <td>0</td>\n",
       "      <td>1</td>\n",
       "      <td>1</td>\n",
       "      <td>0</td>\n",
       "    </tr>\n",
       "    <tr>\n",
       "      <th>16823</th>\n",
       "      <td>0.0</td>\n",
       "      <td>df3f266d261dd9ae81516797fae2fdeb</td>\n",
       "      <td>0.0</td>\n",
       "      <td>0</td>\n",
       "      <td>0</td>\n",
       "      <td>0</td>\n",
       "      <td>0</td>\n",
       "      <td>0</td>\n",
       "      <td>1</td>\n",
       "      <td>1</td>\n",
       "      <td>0</td>\n",
       "    </tr>\n",
       "    <tr>\n",
       "      <th>16824</th>\n",
       "      <td>0.0</td>\n",
       "      <td>df3f266d261dd9ae81516797fae2fdeb</td>\n",
       "      <td>0.0</td>\n",
       "      <td>0</td>\n",
       "      <td>0</td>\n",
       "      <td>0</td>\n",
       "      <td>0</td>\n",
       "      <td>0</td>\n",
       "      <td>1</td>\n",
       "      <td>1</td>\n",
       "      <td>0</td>\n",
       "    </tr>\n",
       "    <tr>\n",
       "      <th>16825</th>\n",
       "      <td>0.0</td>\n",
       "      <td>df3f266d261dd9ae81516797fae2fdeb</td>\n",
       "      <td>0.0</td>\n",
       "      <td>0</td>\n",
       "      <td>0</td>\n",
       "      <td>0</td>\n",
       "      <td>0</td>\n",
       "      <td>0</td>\n",
       "      <td>1</td>\n",
       "      <td>1</td>\n",
       "      <td>0</td>\n",
       "    </tr>\n",
       "  </tbody>\n",
       "</table>\n",
       "<p>18845 rows × 11 columns</p>\n",
       "</div>"
      ],
      "text/plain": [
       "       receivedComplaint(s)                 officerIdentifier  \\\n",
       "0                       1.0  D2551d43b19ebffa7bd2ee6527246459   \n",
       "1                       1.0  9ccd97e1f4a3ff326f52ea6118ad10cf   \n",
       "2                       1.0  86b3db6862d5c9c52be8c3a18dbdd35b   \n",
       "3                       1.0  26e7ffb946a061efe6f9ce0376b5fec4   \n",
       "4                       1.0  Dd58d505aaff5d539d5936329f0fbbae   \n",
       "...                     ...                               ...   \n",
       "16821                   0.0  4f5b0245132a579c404103a1e921faad   \n",
       "16822                   0.0  df3f266d261dd9ae81516797fae2fdeb   \n",
       "16823                   0.0  df3f266d261dd9ae81516797fae2fdeb   \n",
       "16824                   0.0  df3f266d261dd9ae81516797fae2fdeb   \n",
       "16825                   0.0  df3f266d261dd9ae81516797fae2fdeb   \n",
       "\n",
       "       involvedInShooting  police_brutality  officerRace_Asian  \\\n",
       "0                     0.0                 0                  0   \n",
       "1                     0.0                 0                  0   \n",
       "2                     0.0                 0                  0   \n",
       "3                     0.0                 0                  0   \n",
       "4                     0.0                 0                  0   \n",
       "...                   ...               ...                ...   \n",
       "16821                 0.0                 0                  0   \n",
       "16822                 0.0                 0                  0   \n",
       "16823                 0.0                 0                  0   \n",
       "16824                 0.0                 0                  0   \n",
       "16825                 0.0                 0                  0   \n",
       "\n",
       "       officerRace_Black  officerRace_Hispanic  officerRace_Other  \\\n",
       "0                      1                     0                  0   \n",
       "1                      0                     0                  0   \n",
       "2                      0                     0                  0   \n",
       "3                      0                     0                  0   \n",
       "4                      1                     0                  0   \n",
       "...                  ...                   ...                ...   \n",
       "16821                  0                     0                  1   \n",
       "16822                  0                     0                  0   \n",
       "16823                  0                     0                  0   \n",
       "16824                  0                     0                  0   \n",
       "16825                  0                     0                  0   \n",
       "\n",
       "       officerRace_White  officerSex_Female  officerSex_Male  \n",
       "0                      0                  1                0  \n",
       "1                      1                  0                1  \n",
       "2                      1                  1                0  \n",
       "3                      1                  0                1  \n",
       "4                      0                  0                1  \n",
       "...                  ...                ...              ...  \n",
       "16821                  0                  0                1  \n",
       "16822                  1                  1                0  \n",
       "16823                  1                  1                0  \n",
       "16824                  1                  1                0  \n",
       "16825                  1                  1                0  \n",
       "\n",
       "[18845 rows x 11 columns]"
      ]
     },
     "execution_count": 21,
     "metadata": {},
     "output_type": "execute_result"
    }
   ],
   "source": [
    "temp_df"
   ]
  },
  {
   "cell_type": "code",
   "execution_count": 22,
   "metadata": {},
   "outputs": [
    {
     "data": {
      "text/plain": [
       "1    15107\n",
       "0     3738\n",
       "Name: officerRace_White, dtype: int64"
      ]
     },
     "execution_count": 22,
     "metadata": {},
     "output_type": "execute_result"
    }
   ],
   "source": [
    "temp_df['officerRace_White'].value_counts()"
   ]
  },
  {
   "cell_type": "code",
   "execution_count": 23,
   "metadata": {},
   "outputs": [
    {
     "data": {
      "text/plain": [
       "0    18817\n",
       "1       28\n",
       "Name: officerRace_Asian, dtype: int64"
      ]
     },
     "execution_count": 23,
     "metadata": {},
     "output_type": "execute_result"
    }
   ],
   "source": [
    "temp_df['officerRace_Asian'].value_counts()"
   ]
  },
  {
   "cell_type": "code",
   "execution_count": 24,
   "metadata": {},
   "outputs": [
    {
     "data": {
      "text/plain": [
       "0    16728\n",
       "1     2117\n",
       "Name: officerRace_Black, dtype: int64"
      ]
     },
     "execution_count": 24,
     "metadata": {},
     "output_type": "execute_result"
    }
   ],
   "source": [
    "temp_df['officerRace_Black'].value_counts()"
   ]
  },
  {
   "cell_type": "code",
   "execution_count": 25,
   "metadata": {},
   "outputs": [
    {
     "data": {
      "text/plain": [
       "0    18620\n",
       "1      225\n",
       "Name: officerRace_Other, dtype: int64"
      ]
     },
     "execution_count": 25,
     "metadata": {},
     "output_type": "execute_result"
    }
   ],
   "source": [
    "temp_df['officerRace_Other'].value_counts()"
   ]
  },
  {
   "cell_type": "markdown",
   "metadata": {},
   "source": [
    "***Further data analysis and exploration***\n",
    "- Descriptive statistics"
   ]
  },
  {
   "cell_type": "code",
   "execution_count": 26,
   "metadata": {},
   "outputs": [
    {
     "data": {
      "text/html": [
       "        <script type=\"text/javascript\">\n",
       "        window.PlotlyConfig = {MathJaxConfig: 'local'};\n",
       "        if (window.MathJax) {MathJax.Hub.Config({SVG: {font: \"STIX-Web\"}});}\n",
       "        if (typeof require !== 'undefined') {\n",
       "        require.undef(\"plotly\");\n",
       "        requirejs.config({\n",
       "            paths: {\n",
       "                'plotly': ['https://cdn.plot.ly/plotly-latest.min']\n",
       "            }\n",
       "        });\n",
       "        require(['plotly'], function(Plotly) {\n",
       "            window._Plotly = Plotly;\n",
       "        });\n",
       "        }\n",
       "        </script>\n",
       "        "
      ]
     },
     "metadata": {},
     "output_type": "display_data"
    }
   ],
   "source": [
    "import plotly.offline as py\n",
    "import plotly.graph_objs as go\n",
    "import plotly.tools as tls\n",
    "py.init_notebook_mode(connected=True)"
   ]
  },
  {
   "cell_type": "code",
   "execution_count": 26,
   "metadata": {},
   "outputs": [
    {
     "data": {
      "text/html": [
       "<div>\n",
       "<style scoped>\n",
       "    .dataframe tbody tr th:only-of-type {\n",
       "        vertical-align: middle;\n",
       "    }\n",
       "\n",
       "    .dataframe tbody tr th {\n",
       "        vertical-align: top;\n",
       "    }\n",
       "\n",
       "    .dataframe thead th {\n",
       "        text-align: right;\n",
       "    }\n",
       "</style>\n",
       "<table border=\"1\" class=\"dataframe\">\n",
       "  <thead>\n",
       "    <tr style=\"text-align: right;\">\n",
       "      <th></th>\n",
       "      <th>receivedComplaint(s)</th>\n",
       "      <th>involvedInShooting</th>\n",
       "      <th>police_brutality</th>\n",
       "      <th>officerRace_Asian</th>\n",
       "      <th>officerRace_Black</th>\n",
       "      <th>officerRace_Hispanic</th>\n",
       "      <th>officerRace_Other</th>\n",
       "      <th>officerRace_White</th>\n",
       "      <th>officerSex_Female</th>\n",
       "      <th>officerSex_Male</th>\n",
       "    </tr>\n",
       "  </thead>\n",
       "  <tbody>\n",
       "    <tr>\n",
       "      <th>count</th>\n",
       "      <td>18845.000000</td>\n",
       "      <td>18845.000000</td>\n",
       "      <td>18845.000000</td>\n",
       "      <td>18845.000000</td>\n",
       "      <td>18845.000000</td>\n",
       "      <td>18845.000000</td>\n",
       "      <td>18845.000000</td>\n",
       "      <td>18845.000000</td>\n",
       "      <td>18845.000000</td>\n",
       "      <td>18845.000000</td>\n",
       "    </tr>\n",
       "    <tr>\n",
       "      <th>mean</th>\n",
       "      <td>0.093447</td>\n",
       "      <td>0.001804</td>\n",
       "      <td>0.029185</td>\n",
       "      <td>0.001486</td>\n",
       "      <td>0.112337</td>\n",
       "      <td>0.037623</td>\n",
       "      <td>0.011940</td>\n",
       "      <td>0.801645</td>\n",
       "      <td>0.085009</td>\n",
       "      <td>0.882356</td>\n",
       "    </tr>\n",
       "    <tr>\n",
       "      <th>std</th>\n",
       "      <td>0.291065</td>\n",
       "      <td>0.042439</td>\n",
       "      <td>0.168331</td>\n",
       "      <td>0.038519</td>\n",
       "      <td>0.315790</td>\n",
       "      <td>0.190287</td>\n",
       "      <td>0.108617</td>\n",
       "      <td>0.398772</td>\n",
       "      <td>0.278903</td>\n",
       "      <td>0.322195</td>\n",
       "    </tr>\n",
       "    <tr>\n",
       "      <th>min</th>\n",
       "      <td>0.000000</td>\n",
       "      <td>0.000000</td>\n",
       "      <td>0.000000</td>\n",
       "      <td>0.000000</td>\n",
       "      <td>0.000000</td>\n",
       "      <td>0.000000</td>\n",
       "      <td>0.000000</td>\n",
       "      <td>0.000000</td>\n",
       "      <td>0.000000</td>\n",
       "      <td>0.000000</td>\n",
       "    </tr>\n",
       "    <tr>\n",
       "      <th>25%</th>\n",
       "      <td>0.000000</td>\n",
       "      <td>0.000000</td>\n",
       "      <td>0.000000</td>\n",
       "      <td>0.000000</td>\n",
       "      <td>0.000000</td>\n",
       "      <td>0.000000</td>\n",
       "      <td>0.000000</td>\n",
       "      <td>1.000000</td>\n",
       "      <td>0.000000</td>\n",
       "      <td>1.000000</td>\n",
       "    </tr>\n",
       "    <tr>\n",
       "      <th>50%</th>\n",
       "      <td>0.000000</td>\n",
       "      <td>0.000000</td>\n",
       "      <td>0.000000</td>\n",
       "      <td>0.000000</td>\n",
       "      <td>0.000000</td>\n",
       "      <td>0.000000</td>\n",
       "      <td>0.000000</td>\n",
       "      <td>1.000000</td>\n",
       "      <td>0.000000</td>\n",
       "      <td>1.000000</td>\n",
       "    </tr>\n",
       "    <tr>\n",
       "      <th>75%</th>\n",
       "      <td>0.000000</td>\n",
       "      <td>0.000000</td>\n",
       "      <td>0.000000</td>\n",
       "      <td>0.000000</td>\n",
       "      <td>0.000000</td>\n",
       "      <td>0.000000</td>\n",
       "      <td>0.000000</td>\n",
       "      <td>1.000000</td>\n",
       "      <td>0.000000</td>\n",
       "      <td>1.000000</td>\n",
       "    </tr>\n",
       "    <tr>\n",
       "      <th>max</th>\n",
       "      <td>1.000000</td>\n",
       "      <td>1.000000</td>\n",
       "      <td>1.000000</td>\n",
       "      <td>1.000000</td>\n",
       "      <td>1.000000</td>\n",
       "      <td>1.000000</td>\n",
       "      <td>1.000000</td>\n",
       "      <td>1.000000</td>\n",
       "      <td>1.000000</td>\n",
       "      <td>1.000000</td>\n",
       "    </tr>\n",
       "  </tbody>\n",
       "</table>\n",
       "</div>"
      ],
      "text/plain": [
       "       receivedComplaint(s)  involvedInShooting  police_brutality  \\\n",
       "count          18845.000000        18845.000000      18845.000000   \n",
       "mean               0.093447            0.001804          0.029185   \n",
       "std                0.291065            0.042439          0.168331   \n",
       "min                0.000000            0.000000          0.000000   \n",
       "25%                0.000000            0.000000          0.000000   \n",
       "50%                0.000000            0.000000          0.000000   \n",
       "75%                0.000000            0.000000          0.000000   \n",
       "max                1.000000            1.000000          1.000000   \n",
       "\n",
       "       officerRace_Asian  officerRace_Black  officerRace_Hispanic  \\\n",
       "count       18845.000000       18845.000000          18845.000000   \n",
       "mean            0.001486           0.112337              0.037623   \n",
       "std             0.038519           0.315790              0.190287   \n",
       "min             0.000000           0.000000              0.000000   \n",
       "25%             0.000000           0.000000              0.000000   \n",
       "50%             0.000000           0.000000              0.000000   \n",
       "75%             0.000000           0.000000              0.000000   \n",
       "max             1.000000           1.000000              1.000000   \n",
       "\n",
       "       officerRace_Other  officerRace_White  officerSex_Female  \\\n",
       "count       18845.000000       18845.000000       18845.000000   \n",
       "mean            0.011940           0.801645           0.085009   \n",
       "std             0.108617           0.398772           0.278903   \n",
       "min             0.000000           0.000000           0.000000   \n",
       "25%             0.000000           1.000000           0.000000   \n",
       "50%             0.000000           1.000000           0.000000   \n",
       "75%             0.000000           1.000000           0.000000   \n",
       "max             1.000000           1.000000           1.000000   \n",
       "\n",
       "       officerSex_Male  \n",
       "count     18845.000000  \n",
       "mean          0.882356  \n",
       "std           0.322195  \n",
       "min           0.000000  \n",
       "25%           1.000000  \n",
       "50%           1.000000  \n",
       "75%           1.000000  \n",
       "max           1.000000  "
      ]
     },
     "execution_count": 26,
     "metadata": {},
     "output_type": "execute_result"
    }
   ],
   "source": [
    "temp_df.describe()"
   ]
  },
  {
   "cell_type": "markdown",
   "metadata": {},
   "source": [
    "***The Metric Trap***\n",
    "- Rookies usually use simpler metrics like accuracy score which may be misleading and meaningless\n",
    "- In datasets with highly imbalanced classes as shown below, the classifier will always predict the most common classes without performing any analysis of the features.\n",
    "- It will obviously have >90% accuracy, cuz it predicts the most common class."
   ]
  },
  {
   "cell_type": "code",
   "execution_count": 27,
   "metadata": {},
   "outputs": [
    {
     "data": {
      "image/png": "[encoded data removed]",
      "text/plain": [
       "<Figure size 432x288 with 1 Axes>"
      ]
     },
     "metadata": {
      "needs_background": "light"
     },
     "output_type": "display_data"
    }
   ],
   "source": [
    "g = sns.countplot(temp_df['police_brutality'])\n",
    "g.set_xticklabels(['Not Commited','Commited'])\n",
    "plt.show()"
   ]
  },
  {
   "cell_type": "code",
   "execution_count": 40,
   "metadata": {},
   "outputs": [
    {
     "name": "stdout",
     "output_type": "stream",
     "text": [
      "[21:26:04] WARNING: C:/Users/Administrator/workspace/xgboost-win64_release_1.4.0/src/learner.cc:1095: Starting in XGBoost 1.3.0, the default evaluation metric used with the objective 'binary:logistic' was changed from 'error' to 'logloss'. Explicitly set eval_metric if you'd like to restore the old behavior.\n",
      "Accuracy score is:  0.9663040594322101\n"
     ]
    }
   ],
   "source": [
    "# Experiment: Using a simple XGBClassifier without feature engineering\n",
    "from sklearn.model_selection import train_test_split\n",
    "from sklearn.metrics import accuracy_score\n",
    "from xgboost import XGBClassifier\n",
    "\n",
    "y = temp_df['police_brutality']\n",
    "x = temp_df.drop(['police_brutality','officerIdentifier'], axis=1)\n",
    "\n",
    "x_train, x_test, y_train, y_test = train_test_split(x, y, test_size=0.2, random_state=0)\n",
    "\n",
    "xgb_model = XGBClassifier().fit(x_train, y_train)\n",
    "\n",
    "# Predict\n",
    "xgb_y_predict = xgb_model.predict(x_test)\n",
    "\n",
    "# Accuracy score\n",
    "xgb_score = accuracy_score(xgb_y_predict, y_test)\n",
    "\n",
    "print('Accuracy score is: ', xgb_score)"
   ]
  },
  {
   "cell_type": "code",
   "execution_count": 29,
   "metadata": {},
   "outputs": [],
   "source": [
    "# Create 2-dim plot function to visualize data distribution\n",
    "def plot_2d_space(X, y, label='Classes'):   \n",
    "    colors = ['#1F77B4', '#FF7F0E']\n",
    "    markers = ['o', 's']\n",
    "    for l, c, m in zip(np.unique(y), colors, markers):\n",
    "        plt.scatter(\n",
    "            X[y==l, 0],\n",
    "            X[y==l, 1],\n",
    "            c=c, label=l, marker=m\n",
    "        )\n",
    "    plt.title(label)\n",
    "    plt.legend(loc='upper right')\n",
    "    plt.show()"
   ]
  },
  {
   "cell_type": "code",
   "execution_count": 30,
   "metadata": {},
   "outputs": [
    {
     "data": {
      "image/png": "[encoded data removed]",
      "text/plain": [
       "<Figure size 432x288 with 1 Axes>"
      ]
     },
     "metadata": {
      "needs_background": "light"
     },
     "output_type": "display_data"
    }
   ],
   "source": [
    "from sklearn.decomposition import PCA\n",
    "\n",
    "pca = PCA(n_components=2)\n",
    "\n",
    "principalComponents = pca.fit_transform(x)\n",
    "\n",
    "plot_2d_space(principalComponents,y, 'Imbalanced Dataset (2 PCA Components)')"
   ]
  },
  {
   "cell_type": "code",
   "execution_count": 31,
   "metadata": {
    "scrolled": false
   },
   "outputs": [
    {
     "data": {
      "image/png": "[encoded data removed]",
      "text/plain": [
       "<Figure size 720x720 with 1 Axes>"
      ]
     },
     "metadata": {
      "needs_background": "light"
     },
     "output_type": "display_data"
    }
   ],
   "source": [
    "from sklearn.metrics import precision_recall_fscore_support\n",
    "\n",
    "def plot_classification_report(y_tru, y_prd, figsize=(10, 10), ax=None):\n",
    "\n",
    "    plt.figure(figsize=figsize)\n",
    "\n",
    "    xticks = ['precision', 'recall', 'f1-score', 'support']\n",
    "    yticks = list(np.unique(y_tru))\n",
    "    yticks += ['avg']\n",
    "\n",
    "    rep = np.array(precision_recall_fscore_support(y_tru, y_prd)).T\n",
    "    avg = np.mean(rep, axis=0)\n",
    "    avg[-1] = np.sum(rep[:, -1])\n",
    "    rep = np.insert(rep, rep.shape[0], avg, axis=0)\n",
    "\n",
    "    sns.heatmap(rep,\n",
    "                annot=True, \n",
    "                cbar=False, \n",
    "                xticklabels=xticks, \n",
    "                yticklabels=yticks,\n",
    "                ax=ax)\n",
    "\n",
    "plot_classification_report(y_test, xgb_y_predict)"
   ]
  },
  {
   "cell_type": "markdown",
   "metadata": {},
   "source": [
    "***Non-existent precision, recall and f1-score***\n",
    "- Low Precision: Low accuracy of predictions for police brutality\n",
    "- Low recall: Small fraction of high risk police officers correctly identified\n",
    "- Low F1 score: Low percentage of positive predictions were correct"
   ]
  },
  {
   "cell_type": "markdown",
   "metadata": {},
   "source": [
    "***Resampling Technique***\n",
    "- Oversampling to duplicate random records from the minority class, causes overfitting\n",
    "- Undersampling to remove random records from the majority class, causes loss of info\n",
    "\n",
    "***We will be using oversampling and exploring algorithms like ADASYN and SMOTE***"
   ]
  },
  {
   "cell_type": "markdown",
   "metadata": {},
   "source": [
    "***Since this is quite a large dataset, it would be best to do some under-sampling as well to prevent poor generalization of our test dataset***"
   ]
  },
  {
   "cell_type": "markdown",
   "metadata": {},
   "source": [
    "***Tomek links***\n",
    "- Tomek links are pairs of very close instances of the majority and minority class\n",
    "- We will remove those pairs"
   ]
  },
  {
   "cell_type": "code",
   "execution_count": 39,
   "metadata": {},
   "outputs": [
    {
     "name": "stdout",
     "output_type": "stream",
     "text": [
      "Shape of X before SMOTE: (18845, 9)\n",
      "Shape of X after SMOTE: (36590, 9)\n",
      "\n",
      "Balance of positive and negative classes (%):\n"
     ]
    },
    {
     "data": {
      "text/plain": [
       "0    50.0\n",
       "1    50.0\n",
       "Name: police_brutality, dtype: float64"
      ]
     },
     "execution_count": 39,
     "metadata": {},
     "output_type": "execute_result"
    }
   ],
   "source": [
    "# Combining Tomek links and SMOTE using SMOTETomek class\n",
    "from imblearn.combine import SMOTETomek\n",
    "from imblearn.under_sampling import TomekLinks\n",
    "\n",
    "resample = SMOTETomek(tomek=TomekLinks(sampling_strategy='majority'))\n",
    "\n",
    "x_sm, y_sm = resample.fit_resample(x,y)\n",
    "\n",
    "print(f'''Shape of X before SMOTE: {x.shape}\n",
    "Shape of X after SMOTE: {x_sm.shape}''')\n",
    "\n",
    "print('\\nBalance of positive and negative classes (%):')\n",
    "y_sm.value_counts(normalize=True) * 100"
   ]
  },
  {
   "cell_type": "code",
   "execution_count": 33,
   "metadata": {},
   "outputs": [
    {
     "name": "stdout",
     "output_type": "stream",
     "text": [
      "Resampled dataset shape Counter({0: 18295, 1: 18295})\n"
     ]
    }
   ],
   "source": [
    "from collections import Counter\n",
    "\n",
    "print('Resampled dataset shape %s' % Counter(y_sm))"
   ]
  },
  {
   "cell_type": "markdown",
   "metadata": {},
   "source": [
    "***Synthetic Minority Oversampling Technique***\n",
    "- Create synthetic samples from the minor class by selecting 2 or more similar instances by a distance measure and \n",
    "  duplicating it one attribute at a time by a random amount"
   ]
  },
  {
   "cell_type": "code",
   "execution_count": 37,
   "metadata": {},
   "outputs": [],
   "source": [
    "x_sm_train, x_sm_test, y_sm_train, y_sm_test = train_test_split(x_sm, y_sm, test_size=0.2, random_state=0)"
   ]
  },
  {
   "cell_type": "markdown",
   "metadata": {},
   "source": [
    "***Cost-Sensitive Learning for Imbalanced Classification***\n",
    "- Right here we will be using a cost sensitive algorithm that takes the costs of prediction errors into account when training a ML model.\n",
    "- A penalty is associated with incorrect prediction and is referred to as \"cost\"\n",
    "- The goal of Cost-Sensitive Learning is to minimize the cost of a model on a training dataset\n",
    "\n",
    "***The algorithm we are going to use is called penalized-SVM***\n",
    "- Use the argument of class_weight='balanced'\n",
    "- Use the argument probability=True"
   ]
  },
  {
   "cell_type": "code",
   "execution_count": 41,
   "metadata": {},
   "outputs": [
    {
     "name": "stdout",
     "output_type": "stream",
     "text": [
      "ROCAUC score:  0.5930467639376649\n",
      "Accuracy score:  0.5952446023503689\n"
     ]
    }
   ],
   "source": [
    "from sklearn.svm import SVC\n",
    "from sklearn.metrics import roc_auc_score\n",
    "\n",
    "# Add class_weight='balanced' to add penalize mistakes\n",
    "# Probability=True to enable probability estimates\n",
    "svc_model = SVC(probability=False, gamma='auto')\n",
    "\n",
    "svc_model.fit(x_sm_train, y_sm_train)\n",
    "\n",
    "svc_predict = svc_model.predict(x_sm_test)\n",
    "print('ROCAUC score: ', roc_auc_score(y_sm_test, svc_predict))\n",
    "print('Accuracy score: ', accuracy_score(y_sm_test, svc_predict))"
   ]
  },
  {
   "cell_type": "code",
   "execution_count": 42,
   "metadata": {},
   "outputs": [
    {
     "data": {
      "image/png": "[encoded data removed]",
      "text/plain": [
       "<Figure size 720x720 with 1 Axes>"
      ]
     },
     "metadata": {
      "needs_background": "light"
     },
     "output_type": "display_data"
    }
   ],
   "source": [
    "plot_classification_report(y_sm_test, svc_predict)"
   ]
  },
  {
   "cell_type": "markdown",
   "metadata": {},
   "source": [
    "***As you can see, the metrics aren't that promising yet. Look at the precision and accuracy.\n",
    "   This leads us to the 2nd step, which is changing the algorithm***"
   ]
  },
  {
   "cell_type": "code",
   "execution_count": 43,
   "metadata": {},
   "outputs": [
    {
     "name": "stdout",
     "output_type": "stream",
     "text": [
      "ROCAUC score: 0.5949479046220755\n",
      "Accuracy score: 0.5971576933588412\n"
     ]
    }
   ],
   "source": [
    "# Using decision trees, RandomForestClassifier\n",
    "from sklearn.ensemble import RandomForestClassifier\n",
    "\n",
    "rfc = RandomForestClassifier()\n",
    "\n",
    "rfc.fit(x_sm_train, y_sm_train)\n",
    "\n",
    "rfc_predict = rfc.predict(x_sm_test)\n",
    "print('ROCAUC score:',roc_auc_score(y_sm_test, rfc_predict))\n",
    "print('Accuracy score:',accuracy_score(y_sm_test, rfc_predict))"
   ]
  },
  {
   "cell_type": "code",
   "execution_count": 44,
   "metadata": {},
   "outputs": [
    {
     "data": {
      "image/png": "[encoded data removed]",
      "text/plain": [
       "<Figure size 720x720 with 1 Axes>"
      ]
     },
     "metadata": {
      "needs_background": "light"
     },
     "output_type": "display_data"
    }
   ],
   "source": [
    "plot_classification_report(y_sm_test, rfc_predict)"
   ]
  },
  {
   "cell_type": "markdown",
   "metadata": {},
   "source": [
    "***Not a big fan of this either, let's get our hands dirty\n",
    "   KNN model***"
   ]
  },
  {
   "cell_type": "code",
   "execution_count": 45,
   "metadata": {},
   "outputs": [
    {
     "name": "stdout",
     "output_type": "stream",
     "text": [
      "ROCAUC score: 0.5111252434314588\n",
      "Accuracy score: 0.5086089095381252\n"
     ]
    },
    {
     "data": {
      "image/png": "[encoded data removed]",
      "text/plain": [
       "<Figure size 720x720 with 1 Axes>"
      ]
     },
     "metadata": {
      "needs_background": "light"
     },
     "output_type": "display_data"
    }
   ],
   "source": [
    "# KNN model\n",
    "from sklearn.neighbors import KNeighborsClassifier\n",
    "knn = KNeighborsClassifier(n_neighbors = 2)  # n_neighbors means k\n",
    "knn.fit(x_sm_train, y_sm_train)\n",
    "knn_predict = knn.predict(x_sm_test)\n",
    "\n",
    "print('ROCAUC score:',roc_auc_score(y_sm_test, knn_predict))\n",
    "print('Accuracy score:',accuracy_score(y_sm_test, knn_predict))\n",
    "plot_classification_report(y_sm_test, knn_predict)"
   ]
  },
  {
   "cell_type": "code",
   "execution_count": 46,
   "metadata": {},
   "outputs": [
    {
     "data": {
      "image/png": "[encoded data removed]",
      "text/plain": [
       "<Figure size 432x288 with 1 Axes>"
      ]
     },
     "metadata": {
      "needs_background": "light"
     },
     "output_type": "display_data"
    },
    {
     "name": "stdout",
     "output_type": "stream",
     "text": [
      "Maximum KNN Score is 58.72%\n"
     ]
    }
   ],
   "source": [
    "# try ro find best k value\n",
    "scoreList = []\n",
    "for i in range(1,20):\n",
    "    knn2 = KNeighborsClassifier(n_neighbors = i)  # n_neighbors means k\n",
    "    knn2.fit(x_sm_train, y_sm_train)\n",
    "    scoreList.append(knn2.score(x_sm_test, y_sm_test))\n",
    "    \n",
    "plt.plot(range(1,20), scoreList)\n",
    "plt.xticks(np.arange(1,20,1))\n",
    "plt.xlabel(\"K value\")\n",
    "plt.ylabel(\"Score\")\n",
    "plt.show()\n",
    "\n",
    "acc = max(scoreList)*100\n",
    "print(\"Maximum KNN Score is {:.2f}%\".format(acc))"
   ]
  },
  {
   "cell_type": "markdown",
   "metadata": {},
   "source": [
    "***Naive Bayes Algorithm***"
   ]
  },
  {
   "cell_type": "code",
   "execution_count": 47,
   "metadata": {
    "scrolled": true
   },
   "outputs": [
    {
     "name": "stdout",
     "output_type": "stream",
     "text": [
      "ROCAUC score: 0.5111252434314588\n",
      "Accuracy score: 0.5086089095381252\n"
     ]
    },
    {
     "data": {
      "image/png": "[encoded data removed]",
      "text/plain": [
       "<Figure size 720x720 with 1 Axes>"
      ]
     },
     "metadata": {
      "needs_background": "light"
     },
     "output_type": "display_data"
    }
   ],
   "source": [
    "from sklearn.naive_bayes import GaussianNB\n",
    "nb = GaussianNB()\n",
    "nb.fit(x_sm_train, y_sm_train)\n",
    "nb_predict = knn.predict(x_sm_test)\n",
    "\n",
    "print('ROCAUC score:',roc_auc_score(y_sm_test, nb_predict))\n",
    "print('Accuracy score:',accuracy_score(y_sm_test, nb_predict))\n",
    "plot_classification_report(y_sm_test, nb_predict)"
   ]
  },
  {
   "cell_type": "markdown",
   "metadata": {},
   "source": [
    "***Using Class Weights***\n",
    "- Could be a better alternative since it don't involve duplicating or removing records for balancing."
   ]
  },
  {
   "cell_type": "code",
   "execution_count": 48,
   "metadata": {},
   "outputs": [
    {
     "name": "stdout",
     "output_type": "stream",
     "text": [
      "34 Counter({0: 14653, 1: 423})\n"
     ]
    }
   ],
   "source": [
    "n = Counter(y_train)\n",
    "ratio = int(n[0]/n[1])\n",
    "print(ratio,n)"
   ]
  },
  {
   "cell_type": "code",
   "execution_count": 49,
   "metadata": {},
   "outputs": [
    {
     "name": "stdout",
     "output_type": "stream",
     "text": [
      "ROCAUC score:  0.5983776327794281\n",
      "Accuracy score:  0.28256832050941894\n"
     ]
    }
   ],
   "source": [
    "from sklearn.svm import SVC\n",
    "from sklearn.metrics import roc_auc_score\n",
    "\n",
    "# Add class_weight='balanced' to add penalize mistakes\n",
    "# Probability=True to enable probability estimates\n",
    "svc_model = SVC(class_weight={0:1, 1:ratio}, probability=False, gamma='auto')\n",
    "\n",
    "svc_model.fit(x_train, y_train)\n",
    "\n",
    "svc_predict = svc_model.predict(x_test)\n",
    "print('ROCAUC score: ', roc_auc_score(y_test, svc_predict))\n",
    "print('Accuracy score: ', accuracy_score(y_test, svc_predict))"
   ]
  },
  {
   "cell_type": "code",
   "execution_count": 50,
   "metadata": {
    "scrolled": true
   },
   "outputs": [
    {
     "data": {
      "image/png": "[encoded data removed]",
      "text/plain": [
       "<Figure size 720x720 with 1 Axes>"
      ]
     },
     "metadata": {
      "needs_background": "light"
     },
     "output_type": "display_data"
    }
   ],
   "source": [
    "plot_classification_report(y_test, svc_predict)"
   ]
  },
  {
   "cell_type": "code",
   "execution_count": 53,
   "metadata": {
    "scrolled": true
   },
   "outputs": [
    {
     "name": "stdout",
     "output_type": "stream",
     "text": [
      "Train:  [    0     1     3 ... 18842 18843 18844] Validation:  [    2     8    11 ... 18827 18839 18840]\n",
      "Train:  [    0     1     2 ... 18842 18843 18844] Validation:  [    7    18    24 ... 18833 18838 18841]\n",
      "Train:  [    0     1     2 ... 18842 18843 18844] Validation:  [    3     5    13 ... 18811 18816 18830]\n",
      "Train:  [    2     3     4 ... 18842 18843 18844] Validation:  [    0     1     9 ... 18835 18836 18837]\n",
      "Train:  [    0     1     2 ... 18839 18840 18841] Validation:  [    4     6    10 ... 18842 18843 18844]\n",
      "Train:  [    0     1     2 ... 18842 18843 18844] Validation:  [    4     6     8 ... 18833 18836 18839]\n",
      "Train:  [    0     1     2 ... 18842 18843 18844] Validation:  [    3     9    11 ... 18822 18826 18828]\n",
      "Train:  [    1     2     3 ... 18839 18841 18844] Validation:  [    0    13    14 ... 18840 18842 18843]\n",
      "Train:  [    0     1     3 ... 18840 18842 18843] Validation:  [    2    17    19 ... 18838 18841 18844]\n",
      "Train:  [    0     2     3 ... 18842 18843 18844] Validation:  [    1     5     7 ... 18825 18831 18835]\n",
      "Train:  [    0     4     5 ... 18841 18842 18844] Validation:  [    1     2     3 ... 18835 18840 18843]\n",
      "Train:  [    0     1     2 ... 18842 18843 18844] Validation:  [    4     6     8 ... 18814 18831 18841]\n",
      "Train:  [    1     2     3 ... 18842 18843 18844] Validation:  [    0     5    10 ... 18832 18833 18836]\n",
      "Train:  [    0     1     2 ... 18840 18841 18843] Validation:  [    9    14    15 ... 18839 18842 18844]\n",
      "Train:  [    0     1     2 ... 18842 18843 18844] Validation:  [    7    18    19 ... 18826 18837 18838]\n",
      "Train:  [    0     1     2 ... 18841 18843 18844] Validation:  [    6     8    20 ... 18830 18836 18842]\n",
      "Train:  [    0     2     4 ... 18842 18843 18844] Validation:  [    1     3     5 ... 18833 18834 18840]\n",
      "Train:  [    0     1     2 ... 18836 18840 18842] Validation:  [    4    11    21 ... 18841 18843 18844]\n",
      "Train:  [    0     1     2 ... 18842 18843 18844] Validation:  [   16    17    18 ... 18817 18824 18835]\n",
      "Train:  [    1     3     4 ... 18842 18843 18844] Validation:  [    0     2    10 ... 18822 18827 18831]\n",
      "Train:  [    0     1     3 ... 18841 18843 18844] Validation:  [    2     6    11 ... 18828 18836 18842]\n",
      "Train:  [    2     3     4 ... 18841 18842 18844] Validation:  [    0     1     7 ... 18835 18839 18843]\n",
      "Train:  [    0     1     2 ... 18842 18843 18844] Validation:  [    3     5     8 ... 18831 18837 18841]\n",
      "Train:  [    0     1     2 ... 18841 18842 18843] Validation:  [   20    22    33 ... 18829 18832 18844]\n",
      "Train:  [    0     1     2 ... 18842 18843 18844] Validation:  [    4    24    31 ... 18825 18838 18840]\n",
      "Train:  [    0     1     2 ... 18841 18842 18844] Validation:  [    5     9    18 ... 18824 18829 18843]\n",
      "Train:  [    0     1     2 ... 18840 18843 18844] Validation:  [    6    10    26 ... 18836 18841 18842]\n",
      "Train:  [    2     3     4 ... 18842 18843 18844] Validation:  [    0     1    12 ... 18831 18833 18837]\n",
      "Train:  [    0     1     5 ... 18842 18843 18844] Validation:  [    2     3     4 ... 18828 18832 18834]\n",
      "Train:  [    0     1     2 ... 18841 18842 18843] Validation:  [    7     8    11 ... 18839 18840 18844]\n",
      "Train:  [    0     1     2 ... 18842 18843 18844] Validation:  [    9    20    22 ... 18816 18833 18834]\n",
      "Train:  [    0     1     2 ... 18840 18841 18843] Validation:  [    3    10    11 ... 18835 18842 18844]\n",
      "Train:  [    0     2     3 ... 18840 18842 18844] Validation:  [    1     4     5 ... 18828 18841 18843]\n",
      "Train:  [    0     1     2 ... 18842 18843 18844] Validation:  [   16    27    32 ... 18817 18831 18839]\n",
      "Train:  [    1     3     4 ... 18842 18843 18844] Validation:  [    0     2     6 ... 18837 18838 18840]\n",
      "Train:  [    0     2     3 ... 18840 18841 18842] Validation:  [    1     4    12 ... 18835 18843 18844]\n",
      "Train:  [    0     1     2 ... 18841 18843 18844] Validation:  [    6     7     8 ... 18831 18832 18842]\n",
      "Train:  [    0     1     2 ... 18842 18843 18844] Validation:  [    5     9    10 ... 18837 18838 18840]\n",
      "Train:  [    0     1     4 ... 18842 18843 18844] Validation:  [    2     3    13 ... 18818 18823 18836]\n",
      "Train:  [    1     2     3 ... 18842 18843 18844] Validation:  [    0    15    17 ... 18833 18839 18841]\n",
      "Train:  [    0     2     3 ... 18842 18843 18844] Validation:  [    1    33    34 ... 18830 18839 18840]\n",
      "Train:  [    0     1     2 ... 18841 18843 18844] Validation:  [    4     5     6 ... 18829 18836 18842]\n",
      "Train:  [    1     2     3 ... 18840 18841 18842] Validation:  [    0     9    17 ... 18827 18843 18844]\n",
      "Train:  [    0     1     2 ... 18842 18843 18844] Validation:  [   10    12    13 ... 18831 18833 18835]\n",
      "Train:  [    0     1     4 ... 18842 18843 18844] Validation:  [    2     3    14 ... 18837 18838 18841]\n",
      "Train:  [    0     1     5 ... 18840 18842 18844] Validation:  [    2     3     4 ... 18837 18841 18843]\n",
      "Train:  [    0     1     2 ... 18841 18843 18844] Validation:  [    5    11    20 ... 18825 18831 18842]\n",
      "Train:  [    0     1     2 ... 18841 18842 18843] Validation:  [   10    15    23 ... 18838 18840 18844]\n",
      "Train:  [    2     3     4 ... 18842 18843 18844] Validation:  [    0     1     7 ... 18829 18834 18839]\n",
      "Train:  [    0     1     2 ... 18842 18843 18844] Validation:  [   13    14    21 ... 18822 18824 18828]\n"
     ]
    }
   ],
   "source": [
    "from sklearn.model_selection import KFold, RepeatedKFold\n",
    "\n",
    "kf = RepeatedKFold(n_splits=5, n_repeats=10, random_state=None)\n",
    "for train_index, test_index in kf.split(x):\n",
    "    print(\"Train: \", train_index, \"Validation: \", test_index)\n",
    "    x_train, x_test = x.iloc[list(train_index)], x.iloc[list(test_index)]\n",
    "    y_train, y_test = y.iloc[list(train_index)], y.iloc[list(test_index)]"
   ]
  },
  {
   "cell_type": "code",
   "execution_count": 54,
   "metadata": {
    "scrolled": true
   },
   "outputs": [
    {
     "name": "stdout",
     "output_type": "stream",
     "text": [
      "Train:  [ 3743  3744  3745 ... 18842 18843 18844] Validation:  [   0    1    2 ... 4212 4218 4242]\n",
      "Train:  [    0     1     2 ... 18842 18843 18844] Validation:  [3743 3744 3745 ... 7580 7581 7582]\n",
      "Train:  [    0     1     2 ... 18842 18843 18844] Validation:  [ 6498  6622  6633 ... 11356 11357 11358]\n",
      "Train:  [    0     1     2 ... 18842 18843 18844] Validation:  [ 9652  9706  9735 ... 15103 15104 15105]\n",
      "Train:  [    0     1     2 ... 15103 15104 15105] Validation:  [13766 13833 13839 ... 18842 18843 18844]\n"
     ]
    }
   ],
   "source": [
    "from sklearn.model_selection import StratifiedKFold\n",
    "skf = StratifiedKFold(n_splits=5, random_state=None)\n",
    "\n",
    "for train_index, test_index in skf.split(x,y):\n",
    "    print(\"Train: \", train_index, \"Validation: \", test_index)\n",
    "    x_train, x_test = x.iloc[list(train_index)], x.iloc[list(test_index)]\n",
    "    y_train, y_test = y.iloc[list(train_index)], y.iloc[list(test_index)]"
   ]
  },
  {
   "cell_type": "code",
   "execution_count": 62,
   "metadata": {
    "scrolled": true
   },
   "outputs": [
    {
     "name": "stdout",
     "output_type": "stream",
     "text": [
      "Accuracy: nan%\n"
     ]
    },
    {
     "data": {
      "image/png": "[encoded data removed]",
      "text/plain": [
       "<Figure size 720x720 with 1 Axes>"
      ]
     },
     "metadata": {
      "needs_background": "light"
     },
     "output_type": "display_data"
    },
    {
     "data": {
      "image/png": "[encoded data removed]",
      "text/plain": [
       "<Figure size 720x720 with 1 Axes>"
      ]
     },
     "metadata": {
      "needs_background": "light"
     },
     "output_type": "display_data"
    },
    {
     "data": {
      "image/png": "[encoded data removed]",
      "text/plain": [
       "<Figure size 720x720 with 1 Axes>"
      ]
     },
     "metadata": {
      "needs_background": "light"
     },
     "output_type": "display_data"
    },
    {
     "data": {
      "image/png": "[encoded data removed]",
      "text/plain": [
       "<Figure size 720x720 with 1 Axes>"
      ]
     },
     "metadata": {
      "needs_background": "light"
     },
     "output_type": "display_data"
    },
    {
     "data": {
      "image/png": "[encoded data removed]",
      "text/plain": [
       "<Figure size 720x720 with 1 Axes>"
      ]
     },
     "metadata": {
      "needs_background": "light"
     },
     "output_type": "display_data"
    }
   ],
   "source": [
    "from sklearn.model_selection import cross_val_score\n",
    "from sklearn.metrics import make_scorer\n",
    "\n",
    "svc_model = SVC(probability=False, gamma='auto')\n",
    "results_skfold = cross_val_score(svc_model, x, y, cv=skf, scoring=make_scorer(plot_classification_report))\n",
    "print(\"Accuracy: %.2f%%\" % (results_skfold.mean()*100.0))"
   ]
  },
  {
   "cell_type": "code",
   "execution_count": 41,
   "metadata": {
    "scrolled": true
   },
   "outputs": [
    {
     "data": {
      "text/plain": [
       "0    14653\n",
       "1    14653\n",
       "Name: police_brutality, dtype: int64"
      ]
     },
     "execution_count": 41,
     "metadata": {},
     "output_type": "execute_result"
    }
   ],
   "source": [
    "from sklearn.utils import resample\n",
    "\n",
    "X = pd.concat([x_train, y_train], axis=1)\n",
    "\n",
    "not_brutal = X[X.police_brutality==0]\n",
    "brutal = X[X.police_brutality==1]\n",
    "\n",
    "brutal_upsampled = resample(brutal,\n",
    "                            replace=True,\n",
    "                            n_samples=len(not_brutal),\n",
    "                            random_state=0)\n",
    "upsampled = pd.concat([not_brutal, brutal_upsampled])\n",
    "upsampled.police_brutality.value_counts()"
   ]
  },
  {
   "cell_type": "code",
   "execution_count": 42,
   "metadata": {},
   "outputs": [
    {
     "data": {
      "text/plain": [
       "1652     0\n",
       "13123    0\n",
       "3117     0\n",
       "251      0\n",
       "15120    0\n",
       "        ..\n",
       "4275     1\n",
       "15549    1\n",
       "2247     1\n",
       "7096     1\n",
       "10206    1\n",
       "Name: police_brutality, Length: 29306, dtype: int32"
      ]
     },
     "execution_count": 42,
     "metadata": {},
     "output_type": "execute_result"
    }
   ],
   "source": [
    "upsampled.police_brutality"
   ]
  },
  {
   "cell_type": "code",
   "execution_count": 45,
   "metadata": {},
   "outputs": [],
   "source": [
    "from sklearn.ensemble import RandomForestClassifier\n",
    "\n",
    "y_train = upsampled.police_brutality\n",
    "x_train = upsampled.drop('police_brutality', axis=1)\n",
    "\n",
    "rfc = RandomForestClassifier(n_estimators=10).fit(x_train, y_train)\n",
    "\n",
    "upsampled_pred = rfc.predict(x_test)"
   ]
  },
  {
   "cell_type": "code",
   "execution_count": 51,
   "metadata": {},
   "outputs": [
    {
     "data": {
      "text/plain": [
       "0.04227353463587922"
      ]
     },
     "execution_count": 51,
     "metadata": {},
     "output_type": "execute_result"
    }
   ],
   "source": [
    "from sklearn.metrics import accuracy_score, f1_score, confusion_matrix, recall_score, precision_score\n",
    "\n",
    "precision_score(y_test, upsampled_pred)"
   ]
  },
  {
   "cell_type": "code",
   "execution_count": 52,
   "metadata": {},
   "outputs": [
    {
     "data": {
      "text/plain": [
       "0    423\n",
       "1    423\n",
       "Name: police_brutality, dtype: int64"
      ]
     },
     "execution_count": 52,
     "metadata": {},
     "output_type": "execute_result"
    }
   ],
   "source": [
    "not_brutal_downsampled = resample(not_brutal,\n",
    "                                  replace=False,\n",
    "                                  n_samples=len(brutal),\n",
    "                                  random_state=0)\n",
    "downsampled=pd.concat([not_brutal_downsampled, brutal])\n",
    "downsampled.police_brutality.value_counts()"
   ]
  },
  {
   "cell_type": "code",
   "execution_count": 59,
   "metadata": {},
   "outputs": [],
   "source": [
    "from sklearn.svm import SVC\n",
    "\n",
    "y_train = downsampled.police_brutality\n",
    "x_train = downsampled.drop('police_brutality', axis=1)\n",
    "\n",
    "svc_model = SVC(probability=False, gamma='auto')\n",
    "\n",
    "svc_model.fit(x_train, y_train)\n",
    "\n",
    "downsampled_pred = rfc.predict(x_test)"
   ]
  },
  {
   "cell_type": "code",
   "execution_count": 61,
   "metadata": {},
   "outputs": [
    {
     "data": {
      "image/png": "[encoded data removed]",
      "text/plain": [
       "<Figure size 720x720 with 1 Axes>"
      ]
     },
     "metadata": {
      "needs_background": "light"
     },
     "output_type": "display_data"
    }
   ],
   "source": [
    "plot_classification_report(y_test, downsampled_pred)"
   ]
  }
 ],
 "metadata": {
  "kernelspec": {
   "display_name": "Python 3",
   "language": "python",
   "name": "python3"
  },
  "language_info": {
   "codemirror_mode": {
    "name": "ipython",
    "version": 3
   },
   "file_extension": ".py",
   "mimetype": "text/x-python",
   "name": "python",
   "nbconvert_exporter": "python",
   "pygments_lexer": "ipython3",
   "version": "3.7.7"
  }
 },
 "nbformat": 4,
 "nbformat_minor": 4
}
